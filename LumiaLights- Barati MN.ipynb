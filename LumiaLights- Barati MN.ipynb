{
 "cells": [
  {
   "cell_type": "code",
   "execution_count": 3,
   "metadata": {
    "tags": []
   },
   "outputs": [
    {
     "name": "stdout",
     "output_type": "stream",
     "text": [
      "Collecting jupyter-collaboration\n",
      "  Obtaining dependency information for jupyter-collaboration from https://files.pythonhosted.org/packages/1d/d6/77113abf721701c0a675be1a15f6c864c81d1acf60d7be9b75371aa38a46/jupyter_collaboration-2.1.5-py3-none-any.whl.metadata\n",
      "  Downloading jupyter_collaboration-2.1.5-py3-none-any.whl.metadata (7.0 kB)\n",
      "Collecting jsonschema>=4.18.0 (from jupyter-collaboration)\n",
      "  Obtaining dependency information for jsonschema>=4.18.0 from https://files.pythonhosted.org/packages/69/4a/4f9dbeb84e8850557c02365a0eee0649abe5eb1d84af92a25731c6c0f922/jsonschema-4.23.0-py3-none-any.whl.metadata\n",
      "  Downloading jsonschema-4.23.0-py3-none-any.whl.metadata (7.9 kB)\n",
      "Collecting jupyter-events>=0.10.0 (from jupyter-collaboration)\n",
      "  Obtaining dependency information for jupyter-events>=0.10.0 from https://files.pythonhosted.org/packages/a5/94/059180ea70a9a326e1815176b2370da56376da347a796f8c4f0b830208ef/jupyter_events-0.10.0-py3-none-any.whl.metadata\n",
      "  Downloading jupyter_events-0.10.0-py3-none-any.whl.metadata (5.9 kB)\n",
      "Requirement already satisfied: jupyter-server-fileid<1,>=0.7.0 in c:\\users\\barat\\anaconda3\\lib\\site-packages (from jupyter-collaboration) (0.9.0)\n",
      "Collecting jupyter-server<3.0.0,>=2.0.0 (from jupyter-collaboration)\n",
      "  Obtaining dependency information for jupyter-server<3.0.0,>=2.0.0 from https://files.pythonhosted.org/packages/57/e1/085edea6187a127ca8ea053eb01f4e1792d778b4d192c74d32eb6730fed6/jupyter_server-2.14.2-py3-none-any.whl.metadata\n",
      "  Downloading jupyter_server-2.14.2-py3-none-any.whl.metadata (8.4 kB)\n",
      "Collecting jupyter-ydoc<3.0.0,>=2.1.2 (from jupyter-collaboration)\n",
      "  Obtaining dependency information for jupyter-ydoc<3.0.0,>=2.1.2 from https://files.pythonhosted.org/packages/f1/5f/fbd36a7d5c3492f06957c26cf2b2bcbc2bc5c64b56f1b925a13700ba3655/jupyter_ydoc-2.1.3-py3-none-any.whl.metadata\n",
      "  Downloading jupyter_ydoc-2.1.3-py3-none-any.whl.metadata (2.9 kB)\n",
      "Collecting pycrdt (from jupyter-collaboration)\n",
      "  Obtaining dependency information for pycrdt from https://files.pythonhosted.org/packages/69/6d/0b5396fafd6943418be3aa2764e93aa55cc2f8c8356f827a091446dbbdc0/pycrdt-0.10.6-cp311-none-win_amd64.whl.metadata\n",
      "  Downloading pycrdt-0.10.6-cp311-none-win_amd64.whl.metadata (2.1 kB)\n",
      "Collecting pycrdt-websocket<0.16.0,>=0.15.0 (from jupyter-collaboration)\n",
      "  Obtaining dependency information for pycrdt-websocket<0.16.0,>=0.15.0 from https://files.pythonhosted.org/packages/59/0e/63241e1f042a55e1cfdfbb2286593fdfd3699c51182e0544cd64c0bfbceb/pycrdt_websocket-0.15.1-py3-none-any.whl.metadata\n",
      "  Downloading pycrdt_websocket-0.15.1-py3-none-any.whl.metadata (5.3 kB)\n",
      "Collecting attrs>=22.2.0 (from jsonschema>=4.18.0->jupyter-collaboration)\n",
      "  Obtaining dependency information for attrs>=22.2.0 from https://files.pythonhosted.org/packages/6a/21/5b6702a7f963e95456c0de2d495f67bf5fd62840ac655dc451586d23d39a/attrs-24.2.0-py3-none-any.whl.metadata\n",
      "  Downloading attrs-24.2.0-py3-none-any.whl.metadata (11 kB)\n",
      "Collecting jsonschema-specifications>=2023.03.6 (from jsonschema>=4.18.0->jupyter-collaboration)\n",
      "  Obtaining dependency information for jsonschema-specifications>=2023.03.6 from https://files.pythonhosted.org/packages/d1/0f/8910b19ac0670a0f80ce1008e5e751c4a57e14d2c4c13a482aa6079fa9d6/jsonschema_specifications-2024.10.1-py3-none-any.whl.metadata\n",
      "  Downloading jsonschema_specifications-2024.10.1-py3-none-any.whl.metadata (3.0 kB)\n",
      "Collecting referencing>=0.28.4 (from jsonschema>=4.18.0->jupyter-collaboration)\n",
      "  Obtaining dependency information for referencing>=0.28.4 from https://files.pythonhosted.org/packages/b7/59/2056f61236782a2c86b33906c025d4f4a0b17be0161b63b70fd9e8775d36/referencing-0.35.1-py3-none-any.whl.metadata\n",
      "  Downloading referencing-0.35.1-py3-none-any.whl.metadata (2.8 kB)\n",
      "Collecting rpds-py>=0.7.1 (from jsonschema>=4.18.0->jupyter-collaboration)\n",
      "  Obtaining dependency information for rpds-py>=0.7.1 from https://files.pythonhosted.org/packages/cc/ec/77d0674f9af4872919f3738018558dd9d37ad3f7ad792d062eadd4af7cba/rpds_py-0.20.0-cp311-none-win_amd64.whl.metadata\n",
      "  Downloading rpds_py-0.20.0-cp311-none-win_amd64.whl.metadata (4.2 kB)\n",
      "Requirement already satisfied: python-json-logger>=2.0.4 in c:\\users\\barat\\anaconda3\\lib\\site-packages (from jupyter-events>=0.10.0->jupyter-collaboration) (2.0.7)\n",
      "Requirement already satisfied: pyyaml>=5.3 in c:\\users\\barat\\anaconda3\\lib\\site-packages (from jupyter-events>=0.10.0->jupyter-collaboration) (6.0)\n",
      "Requirement already satisfied: rfc3339-validator in c:\\users\\barat\\anaconda3\\lib\\site-packages (from jupyter-events>=0.10.0->jupyter-collaboration) (0.1.4)\n",
      "Requirement already satisfied: rfc3986-validator>=0.1.1 in c:\\users\\barat\\anaconda3\\lib\\site-packages (from jupyter-events>=0.10.0->jupyter-collaboration) (0.1.1)\n",
      "Requirement already satisfied: traitlets>=5.3 in c:\\users\\barat\\anaconda3\\lib\\site-packages (from jupyter-events>=0.10.0->jupyter-collaboration) (5.7.1)\n",
      "Requirement already satisfied: anyio>=3.1.0 in c:\\users\\barat\\anaconda3\\lib\\site-packages (from jupyter-server<3.0.0,>=2.0.0->jupyter-collaboration) (3.5.0)\n",
      "Requirement already satisfied: argon2-cffi>=21.1 in c:\\users\\barat\\anaconda3\\lib\\site-packages (from jupyter-server<3.0.0,>=2.0.0->jupyter-collaboration) (21.3.0)\n",
      "Requirement already satisfied: jinja2>=3.0.3 in c:\\users\\barat\\anaconda3\\lib\\site-packages (from jupyter-server<3.0.0,>=2.0.0->jupyter-collaboration) (3.1.2)\n",
      "Requirement already satisfied: jupyter-client>=7.4.4 in c:\\users\\barat\\anaconda3\\lib\\site-packages (from jupyter-server<3.0.0,>=2.0.0->jupyter-collaboration) (7.4.9)\n",
      "Requirement already satisfied: jupyter-core!=5.0.*,>=4.12 in c:\\users\\barat\\anaconda3\\lib\\site-packages (from jupyter-server<3.0.0,>=2.0.0->jupyter-collaboration) (5.3.0)\n",
      "Collecting jupyter-server-terminals>=0.4.4 (from jupyter-server<3.0.0,>=2.0.0->jupyter-collaboration)\n",
      "  Obtaining dependency information for jupyter-server-terminals>=0.4.4 from https://files.pythonhosted.org/packages/07/2d/2b32cdbe8d2a602f697a649798554e4f072115438e92249624e532e8aca6/jupyter_server_terminals-0.5.3-py3-none-any.whl.metadata\n",
      "  Downloading jupyter_server_terminals-0.5.3-py3-none-any.whl.metadata (5.6 kB)\n",
      "Requirement already satisfied: nbconvert>=6.4.4 in c:\\users\\barat\\anaconda3\\lib\\site-packages (from jupyter-server<3.0.0,>=2.0.0->jupyter-collaboration) (6.5.4)\n",
      "Requirement already satisfied: nbformat>=5.3.0 in c:\\users\\barat\\anaconda3\\lib\\site-packages (from jupyter-server<3.0.0,>=2.0.0->jupyter-collaboration) (5.9.2)\n",
      "Collecting overrides>=5.0 (from jupyter-server<3.0.0,>=2.0.0->jupyter-collaboration)\n",
      "  Obtaining dependency information for overrides>=5.0 from https://files.pythonhosted.org/packages/2c/ab/fc8290c6a4c722e5514d80f62b2dc4c4df1a68a41d1364e625c35990fcf3/overrides-7.7.0-py3-none-any.whl.metadata\n",
      "  Downloading overrides-7.7.0-py3-none-any.whl.metadata (5.8 kB)\n",
      "Requirement already satisfied: packaging>=22.0 in c:\\users\\barat\\anaconda3\\lib\\site-packages (from jupyter-server<3.0.0,>=2.0.0->jupyter-collaboration) (23.1)\n",
      "Requirement already satisfied: prometheus-client>=0.9 in c:\\users\\barat\\anaconda3\\lib\\site-packages (from jupyter-server<3.0.0,>=2.0.0->jupyter-collaboration) (0.14.1)\n",
      "Requirement already satisfied: pywinpty>=2.0.1 in c:\\users\\barat\\anaconda3\\lib\\site-packages (from jupyter-server<3.0.0,>=2.0.0->jupyter-collaboration) (2.0.10)\n",
      "Collecting pyzmq>=24 (from jupyter-server<3.0.0,>=2.0.0->jupyter-collaboration)\n",
      "  Obtaining dependency information for pyzmq>=24 from https://files.pythonhosted.org/packages/3b/1b/0a540edd75a41df14ec416a9a500b9fec66e554aac920d4c58fbd5756776/pyzmq-26.2.0-cp311-cp311-win_amd64.whl.metadata\n",
      "  Downloading pyzmq-26.2.0-cp311-cp311-win_amd64.whl.metadata (6.2 kB)\n",
      "Collecting send2trash>=1.8.2 (from jupyter-server<3.0.0,>=2.0.0->jupyter-collaboration)\n",
      "  Obtaining dependency information for send2trash>=1.8.2 from https://files.pythonhosted.org/packages/40/b0/4562db6223154aa4e22f939003cb92514c79f3d4dccca3444253fd17f902/Send2Trash-1.8.3-py3-none-any.whl.metadata\n",
      "  Downloading Send2Trash-1.8.3-py3-none-any.whl.metadata (4.0 kB)\n",
      "Requirement already satisfied: terminado>=0.8.3 in c:\\users\\barat\\anaconda3\\lib\\site-packages (from jupyter-server<3.0.0,>=2.0.0->jupyter-collaboration) (0.17.1)\n",
      "Requirement already satisfied: tornado>=6.2.0 in c:\\users\\barat\\anaconda3\\lib\\site-packages (from jupyter-server<3.0.0,>=2.0.0->jupyter-collaboration) (6.3.2)\n",
      "Collecting websocket-client>=1.7 (from jupyter-server<3.0.0,>=2.0.0->jupyter-collaboration)\n",
      "  Obtaining dependency information for websocket-client>=1.7 from https://files.pythonhosted.org/packages/5a/84/44687a29792a70e111c5c477230a72c4b957d88d16141199bf9acb7537a3/websocket_client-1.8.0-py3-none-any.whl.metadata\n",
      "  Downloading websocket_client-1.8.0-py3-none-any.whl.metadata (8.0 kB)\n",
      "Collecting anyio>=3.1.0 (from jupyter-server<3.0.0,>=2.0.0->jupyter-collaboration)\n",
      "  Obtaining dependency information for anyio>=3.1.0 from https://files.pythonhosted.org/packages/e4/f5/f2b75d2fc6f1a260f340f0e7c6a060f4dd2961cc16884ed851b0d18da06a/anyio-4.6.2.post1-py3-none-any.whl.metadata\n",
      "  Downloading anyio-4.6.2.post1-py3-none-any.whl.metadata (4.7 kB)\n",
      "Collecting sqlite-anyio<0.3.0,>=0.2.3 (from pycrdt-websocket<0.16.0,>=0.15.0->jupyter-collaboration)\n",
      "  Obtaining dependency information for sqlite-anyio<0.3.0,>=0.2.3 from https://files.pythonhosted.org/packages/d5/bb/6b3d94f713b8cf11f1f802bf625c5df8b98d1a176b9b4ce33c2da12dc977/sqlite_anyio-0.2.3-py3-none-any.whl.metadata\n",
      "  Downloading sqlite_anyio-0.2.3-py3-none-any.whl.metadata (3.0 kB)\n",
      "Requirement already satisfied: idna>=2.8 in c:\\users\\barat\\anaconda3\\lib\\site-packages (from anyio>=3.1.0->jupyter-server<3.0.0,>=2.0.0->jupyter-collaboration) (3.4)\n",
      "Requirement already satisfied: sniffio>=1.1 in c:\\users\\barat\\anaconda3\\lib\\site-packages (from anyio>=3.1.0->jupyter-server<3.0.0,>=2.0.0->jupyter-collaboration) (1.2.0)\n",
      "Requirement already satisfied: argon2-cffi-bindings in c:\\users\\barat\\anaconda3\\lib\\site-packages (from argon2-cffi>=21.1->jupyter-server<3.0.0,>=2.0.0->jupyter-collaboration) (21.2.0)\n",
      "Requirement already satisfied: MarkupSafe>=2.0 in c:\\users\\barat\\anaconda3\\lib\\site-packages (from jinja2>=3.0.3->jupyter-server<3.0.0,>=2.0.0->jupyter-collaboration) (2.1.1)\n",
      "Collecting fqdn (from jsonschema>=4.18.0->jupyter-collaboration)\n",
      "  Obtaining dependency information for fqdn from https://files.pythonhosted.org/packages/cf/58/8acf1b3e91c58313ce5cb67df61001fc9dcd21be4fadb76c1a2d540e09ed/fqdn-1.5.1-py3-none-any.whl.metadata\n",
      "  Downloading fqdn-1.5.1-py3-none-any.whl.metadata (1.4 kB)\n",
      "Collecting isoduration (from jsonschema>=4.18.0->jupyter-collaboration)\n",
      "  Obtaining dependency information for isoduration from https://files.pythonhosted.org/packages/7b/55/e5326141505c5d5e34c5e0935d2908a74e4561eca44108fbfb9c13d2911a/isoduration-20.11.0-py3-none-any.whl.metadata\n",
      "  Downloading isoduration-20.11.0-py3-none-any.whl.metadata (5.7 kB)\n",
      "Requirement already satisfied: jsonpointer>1.13 in c:\\users\\barat\\anaconda3\\lib\\site-packages (from jsonschema>=4.18.0->jupyter-collaboration) (2.1)\n",
      "Collecting uri-template (from jsonschema>=4.18.0->jupyter-collaboration)\n",
      "  Obtaining dependency information for uri-template from https://files.pythonhosted.org/packages/e7/00/3fca040d7cf8a32776d3d81a00c8ee7457e00f80c649f1e4a863c8321ae9/uri_template-1.3.0-py3-none-any.whl.metadata\n",
      "  Downloading uri_template-1.3.0-py3-none-any.whl.metadata (8.8 kB)\n",
      "Collecting webcolors>=24.6.0 (from jsonschema>=4.18.0->jupyter-collaboration)\n",
      "  Obtaining dependency information for webcolors>=24.6.0 from https://files.pythonhosted.org/packages/f0/33/12020ba99beaff91682b28dc0bbf0345bbc3244a4afbae7644e4fa348f23/webcolors-24.8.0-py3-none-any.whl.metadata\n",
      "  Downloading webcolors-24.8.0-py3-none-any.whl.metadata (2.6 kB)\n",
      "Requirement already satisfied: entrypoints in c:\\users\\barat\\anaconda3\\lib\\site-packages (from jupyter-client>=7.4.4->jupyter-server<3.0.0,>=2.0.0->jupyter-collaboration) (0.4)\n",
      "Requirement already satisfied: nest-asyncio>=1.5.4 in c:\\users\\barat\\anaconda3\\lib\\site-packages (from jupyter-client>=7.4.4->jupyter-server<3.0.0,>=2.0.0->jupyter-collaboration) (1.5.6)\n",
      "Requirement already satisfied: python-dateutil>=2.8.2 in c:\\users\\barat\\anaconda3\\lib\\site-packages (from jupyter-client>=7.4.4->jupyter-server<3.0.0,>=2.0.0->jupyter-collaboration) (2.8.2)\n",
      "Requirement already satisfied: platformdirs>=2.5 in c:\\users\\barat\\anaconda3\\lib\\site-packages (from jupyter-core!=5.0.*,>=4.12->jupyter-server<3.0.0,>=2.0.0->jupyter-collaboration) (3.10.0)\n",
      "Requirement already satisfied: pywin32>=300 in c:\\users\\barat\\anaconda3\\lib\\site-packages (from jupyter-core!=5.0.*,>=4.12->jupyter-server<3.0.0,>=2.0.0->jupyter-collaboration) (305.1)\n",
      "Requirement already satisfied: lxml in c:\\users\\barat\\anaconda3\\lib\\site-packages (from nbconvert>=6.4.4->jupyter-server<3.0.0,>=2.0.0->jupyter-collaboration) (4.9.3)\n",
      "Requirement already satisfied: beautifulsoup4 in c:\\users\\barat\\anaconda3\\lib\\site-packages (from nbconvert>=6.4.4->jupyter-server<3.0.0,>=2.0.0->jupyter-collaboration) (4.12.2)\n",
      "Requirement already satisfied: bleach in c:\\users\\barat\\anaconda3\\lib\\site-packages (from nbconvert>=6.4.4->jupyter-server<3.0.0,>=2.0.0->jupyter-collaboration) (4.1.0)\n",
      "Requirement already satisfied: defusedxml in c:\\users\\barat\\anaconda3\\lib\\site-packages (from nbconvert>=6.4.4->jupyter-server<3.0.0,>=2.0.0->jupyter-collaboration) (0.7.1)\n",
      "Requirement already satisfied: jupyterlab-pygments in c:\\users\\barat\\anaconda3\\lib\\site-packages (from nbconvert>=6.4.4->jupyter-server<3.0.0,>=2.0.0->jupyter-collaboration) (0.1.2)\n",
      "Requirement already satisfied: mistune<2,>=0.8.1 in c:\\users\\barat\\anaconda3\\lib\\site-packages (from nbconvert>=6.4.4->jupyter-server<3.0.0,>=2.0.0->jupyter-collaboration) (0.8.4)\n",
      "Requirement already satisfied: nbclient>=0.5.0 in c:\\users\\barat\\anaconda3\\lib\\site-packages (from nbconvert>=6.4.4->jupyter-server<3.0.0,>=2.0.0->jupyter-collaboration) (0.5.13)\n",
      "Requirement already satisfied: pandocfilters>=1.4.1 in c:\\users\\barat\\anaconda3\\lib\\site-packages (from nbconvert>=6.4.4->jupyter-server<3.0.0,>=2.0.0->jupyter-collaboration) (1.5.0)\n",
      "Requirement already satisfied: pygments>=2.4.1 in c:\\users\\barat\\anaconda3\\lib\\site-packages (from nbconvert>=6.4.4->jupyter-server<3.0.0,>=2.0.0->jupyter-collaboration) (2.15.1)\n",
      "Requirement already satisfied: tinycss2 in c:\\users\\barat\\anaconda3\\lib\\site-packages (from nbconvert>=6.4.4->jupyter-server<3.0.0,>=2.0.0->jupyter-collaboration) (1.2.1)\n",
      "Requirement already satisfied: fastjsonschema in c:\\users\\barat\\anaconda3\\lib\\site-packages (from nbformat>=5.3.0->jupyter-server<3.0.0,>=2.0.0->jupyter-collaboration) (2.16.2)\n",
      "Requirement already satisfied: six in c:\\users\\barat\\anaconda3\\lib\\site-packages (from rfc3339-validator->jupyter-events>=0.10.0->jupyter-collaboration) (1.16.0)\n",
      "Requirement already satisfied: cffi>=1.0.1 in c:\\users\\barat\\anaconda3\\lib\\site-packages (from argon2-cffi-bindings->argon2-cffi>=21.1->jupyter-server<3.0.0,>=2.0.0->jupyter-collaboration) (1.15.1)\n",
      "Requirement already satisfied: soupsieve>1.2 in c:\\users\\barat\\anaconda3\\lib\\site-packages (from beautifulsoup4->nbconvert>=6.4.4->jupyter-server<3.0.0,>=2.0.0->jupyter-collaboration) (2.4)\n",
      "Requirement already satisfied: webencodings in c:\\users\\barat\\anaconda3\\lib\\site-packages (from bleach->nbconvert>=6.4.4->jupyter-server<3.0.0,>=2.0.0->jupyter-collaboration) (0.5.1)\n",
      "Requirement already satisfied: arrow>=0.15.0 in c:\\users\\barat\\anaconda3\\lib\\site-packages (from isoduration->jsonschema>=4.18.0->jupyter-collaboration) (1.2.3)\n",
      "Requirement already satisfied: pycparser in c:\\users\\barat\\anaconda3\\lib\\site-packages (from cffi>=1.0.1->argon2-cffi-bindings->argon2-cffi>=21.1->jupyter-server<3.0.0,>=2.0.0->jupyter-collaboration) (2.21)\n",
      "Downloading jupyter_collaboration-2.1.5-py3-none-any.whl (59 kB)\n",
      "   ---------------------------------------- 0.0/59.1 kB ? eta -:--:--\n",
      "   ---------------------------------------- 59.1/59.1 kB 1.5 MB/s eta 0:00:00\n",
      "Downloading jsonschema-4.23.0-py3-none-any.whl (88 kB)\n",
      "   ---------------------------------------- 0.0/88.5 kB ? eta -:--:--\n",
      "   ------------------------------------- -- 81.9/88.5 kB 2.3 MB/s eta 0:00:01\n",
      "   ---------------------------------------- 88.5/88.5 kB 1.7 MB/s eta 0:00:00\n",
      "Downloading jupyter_events-0.10.0-py3-none-any.whl (18 kB)\n",
      "Downloading jupyter_server-2.14.2-py3-none-any.whl (383 kB)\n",
      "   ---------------------------------------- 0.0/383.6 kB ? eta -:--:--\n",
      "   ---------- ----------------------------- 102.4/383.6 kB 3.0 MB/s eta 0:00:01\n",
      "   ----------------------- ---------------- 225.3/383.6 kB 3.4 MB/s eta 0:00:01\n",
      "   ------------------------------------ --- 348.2/383.6 kB 2.7 MB/s eta 0:00:01\n",
      "   ---------------------------------------- 383.6/383.6 kB 2.6 MB/s eta 0:00:00\n",
      "Downloading jupyter_ydoc-2.1.3-py3-none-any.whl (11 kB)\n",
      "Downloading pycrdt-0.10.6-cp311-none-win_amd64.whl (681 kB)\n",
      "   ---------------------------------------- 0.0/682.0 kB ? eta -:--:--\n",
      "   ------ --------------------------------- 112.6/682.0 kB 3.3 MB/s eta 0:00:01\n",
      "   ---------------- ----------------------- 286.7/682.0 kB 3.5 MB/s eta 0:00:01\n",
      "   -------------------------- ------------- 450.6/682.0 kB 3.5 MB/s eta 0:00:01\n",
      "   -------------------------------------- - 655.4/682.0 kB 3.4 MB/s eta 0:00:01\n",
      "   ---------------------------------------  675.8/682.0 kB 3.5 MB/s eta 0:00:01\n",
      "   ---------------------------------------  675.8/682.0 kB 3.5 MB/s eta 0:00:01\n",
      "   ---------------------------------------  675.8/682.0 kB 3.5 MB/s eta 0:00:01\n",
      "   ---------------------------------------- 682.0/682.0 kB 1.9 MB/s eta 0:00:00\n",
      "Downloading pycrdt_websocket-0.15.1-py3-none-any.whl (20 kB)\n",
      "Downloading anyio-4.6.2.post1-py3-none-any.whl (90 kB)\n",
      "   ---------------------------------------- 0.0/90.4 kB ? eta -:--:--\n",
      "   ---------------------------------------- 90.4/90.4 kB 2.6 MB/s eta 0:00:00\n",
      "Downloading attrs-24.2.0-py3-none-any.whl (63 kB)\n",
      "   ---------------------------------------- 0.0/63.0 kB ? eta -:--:--\n",
      "   ---------------------------------------- 63.0/63.0 kB 3.3 MB/s eta 0:00:00\n",
      "Downloading jsonschema_specifications-2024.10.1-py3-none-any.whl (18 kB)\n",
      "Downloading jupyter_server_terminals-0.5.3-py3-none-any.whl (13 kB)\n",
      "Downloading overrides-7.7.0-py3-none-any.whl (17 kB)\n",
      "Downloading pyzmq-26.2.0-cp311-cp311-win_amd64.whl (642 kB)\n",
      "   ---------------------------------------- 0.0/642.3 kB ? eta -:--:--\n",
      "   --------- ------------------------------ 153.6/642.3 kB 3.1 MB/s eta 0:00:01\n",
      "   ------------------ --------------------- 297.0/642.3 kB 3.1 MB/s eta 0:00:01\n",
      "   -------------------------- ------------- 430.1/642.3 kB 3.0 MB/s eta 0:00:01\n",
      "   ---------------------------------- ----- 553.0/642.3 kB 2.9 MB/s eta 0:00:01\n",
      "   ---------------------------------------- 642.3/642.3 kB 2.5 MB/s eta 0:00:00\n",
      "Downloading referencing-0.35.1-py3-none-any.whl (26 kB)\n",
      "Downloading rpds_py-0.20.0-cp311-none-win_amd64.whl (213 kB)\n",
      "   ---------------------------------------- 0.0/213.6 kB ? eta -:--:--\n",
      "   --------------------- ------------------ 112.6/213.6 kB 3.3 MB/s eta 0:00:01\n",
      "   ---------------------------------------- 213.6/213.6 kB 2.6 MB/s eta 0:00:00\n",
      "Downloading Send2Trash-1.8.3-py3-none-any.whl (18 kB)\n",
      "Downloading sqlite_anyio-0.2.3-py3-none-any.whl (4.7 kB)\n",
      "Downloading websocket_client-1.8.0-py3-none-any.whl (58 kB)\n",
      "   ---------------------------------------- 0.0/58.8 kB ? eta -:--:--\n",
      "   ---------------------------------------- 58.8/58.8 kB 3.2 MB/s eta 0:00:00\n",
      "Downloading webcolors-24.8.0-py3-none-any.whl (15 kB)\n",
      "Downloading fqdn-1.5.1-py3-none-any.whl (9.1 kB)\n",
      "Downloading isoduration-20.11.0-py3-none-any.whl (11 kB)\n",
      "Downloading uri_template-1.3.0-py3-none-any.whl (11 kB)\n",
      "Installing collected packages: websocket-client, webcolors, uri-template, send2trash, rpds-py, pyzmq, overrides, fqdn, attrs, anyio, sqlite-anyio, referencing, pycrdt, jupyter-server-terminals, pycrdt-websocket, jupyter-ydoc, jsonschema-specifications, isoduration, jsonschema, jupyter-events, jupyter-server, jupyter-collaboration\n",
      "  Attempting uninstall: websocket-client\n",
      "    Found existing installation: websocket-client 0.58.0\n",
      "    Uninstalling websocket-client-0.58.0:\n",
      "      Successfully uninstalled websocket-client-0.58.0\n",
      "  Attempting uninstall: send2trash\n",
      "    Found existing installation: Send2Trash 1.8.0\n",
      "    Uninstalling Send2Trash-1.8.0:\n",
      "      Successfully uninstalled Send2Trash-1.8.0\n",
      "  Attempting uninstall: pyzmq\n",
      "    Found existing installation: pyzmq 23.2.0\n",
      "    Uninstalling pyzmq-23.2.0:\n",
      "      Successfully uninstalled pyzmq-23.2.0\n",
      "  Attempting uninstall: attrs\n",
      "    Found existing installation: attrs 22.1.0\n",
      "    Uninstalling attrs-22.1.0:\n",
      "      Successfully uninstalled attrs-22.1.0\n",
      "  Attempting uninstall: anyio\n",
      "    Found existing installation: anyio 3.5.0\n",
      "    Uninstalling anyio-3.5.0:\n",
      "      Successfully uninstalled anyio-3.5.0\n",
      "  Attempting uninstall: jupyter-ydoc\n",
      "    Found existing installation: jupyter-ydoc 0.2.4\n",
      "    Uninstalling jupyter-ydoc-0.2.4:\n",
      "      Successfully uninstalled jupyter-ydoc-0.2.4\n",
      "  Attempting uninstall: jsonschema\n",
      "    Found existing installation: jsonschema 4.17.3\n",
      "    Uninstalling jsonschema-4.17.3:\n",
      "      Successfully uninstalled jsonschema-4.17.3\n",
      "  Attempting uninstall: jupyter-events\n",
      "    Found existing installation: jupyter-events 0.6.3\n",
      "    Uninstalling jupyter-events-0.6.3:\n",
      "      Successfully uninstalled jupyter-events-0.6.3\n",
      "  Attempting uninstall: jupyter-server\n",
      "    Found existing installation: jupyter-server 1.23.4\n",
      "    Uninstalling jupyter-server-1.23.4:\n",
      "      Successfully uninstalled jupyter-server-1.23.4\n",
      "Successfully installed anyio-4.6.2.post1 attrs-24.2.0 fqdn-1.5.1 isoduration-20.11.0 jsonschema-4.23.0 jsonschema-specifications-2024.10.1 jupyter-collaboration-2.1.5 jupyter-events-0.10.0 jupyter-server-2.14.2 jupyter-server-terminals-0.5.3 jupyter-ydoc-2.1.3 overrides-7.7.0 pycrdt-0.10.6 pycrdt-websocket-0.15.1 pyzmq-26.2.0 referencing-0.35.1 rpds-py-0.20.0 send2trash-1.8.3 sqlite-anyio-0.2.3 uri-template-1.3.0 webcolors-24.8.0 websocket-client-1.8.0\n",
      "Note: you may need to restart the kernel to use updated packages.\n"
     ]
    },
    {
     "name": "stderr",
     "output_type": "stream",
     "text": [
      "ERROR: pip's dependency resolver does not currently take into account all the packages that are installed. This behaviour is the source of the following dependency conflicts.\n",
      "jupyterlab 3.6.3 requires jupyter-ydoc~=0.2.3, but you have jupyter-ydoc 2.1.3 which is incompatible.\n",
      "jupyter-server-ydoc 0.8.0 requires jupyter-ydoc<0.4.0,>=0.2.0, but you have jupyter-ydoc 2.1.3 which is incompatible.\n"
     ]
    }
   ],
   "source": [
    "pip install jupyter-collaboration"
   ]
  },
  {
   "cell_type": "code",
   "execution_count": null,
   "metadata": {
    "tags": []
   },
   "outputs": [],
   "source": [
    "!jupyter lab --collaborative"
   ]
  },
  {
   "cell_type": "code",
   "execution_count": 3,
   "metadata": {
    "ExecuteTime": {
     "end_time": "2024-10-26T08:46:32.851897Z",
     "start_time": "2024-10-26T08:46:32.849407Z"
    }
   },
   "outputs": [],
   "source": [
    "import pandas as pd\n",
    "import numpy as np\n",
    "import seaborn as sns\n",
    "import matplotlib.pyplot as plt"
   ]
  },
  {
   "cell_type": "code",
   "execution_count": 4,
   "metadata": {
    "ExecuteTime": {
     "end_time": "2024-10-26T08:46:50.061765Z",
     "start_time": "2024-10-26T08:46:34.899597Z"
    }
   },
   "outputs": [
    {
     "data": {
      "text/html": [
       "<div>\n",
       "<style scoped>\n",
       "    .dataframe tbody tr th:only-of-type {\n",
       "        vertical-align: middle;\n",
       "    }\n",
       "\n",
       "    .dataframe tbody tr th {\n",
       "        vertical-align: top;\n",
       "    }\n",
       "\n",
       "    .dataframe thead th {\n",
       "        text-align: right;\n",
       "    }\n",
       "</style>\n",
       "<table border=\"1\" class=\"dataframe\">\n",
       "  <thead>\n",
       "    <tr style=\"text-align: right;\">\n",
       "      <th></th>\n",
       "      <th>accounting_date</th>\n",
       "      <th>fiscal_year</th>\n",
       "      <th>fiscal_month</th>\n",
       "      <th>calendar_year</th>\n",
       "      <th>calendar_month</th>\n",
       "      <th>calendar_day</th>\n",
       "      <th>company_code</th>\n",
       "      <th>customer_code</th>\n",
       "      <th>customer_district_code</th>\n",
       "      <th>item_code</th>\n",
       "      <th>...</th>\n",
       "      <th>value_quantity</th>\n",
       "      <th>value_price_adjustment</th>\n",
       "      <th>currency</th>\n",
       "      <th>item_source_class</th>\n",
       "      <th>invoice_number</th>\n",
       "      <th>line_number</th>\n",
       "      <th>invoice_date</th>\n",
       "      <th>customer_order_number</th>\n",
       "      <th>order_date</th>\n",
       "      <th>dss_update_time</th>\n",
       "    </tr>\n",
       "  </thead>\n",
       "  <tbody>\n",
       "    <tr>\n",
       "      <th>0</th>\n",
       "      <td>20130125</td>\n",
       "      <td>2013</td>\n",
       "      <td>7</td>\n",
       "      <td>2013</td>\n",
       "      <td>1</td>\n",
       "      <td>25</td>\n",
       "      <td>205</td>\n",
       "      <td>471150112</td>\n",
       "      <td>400</td>\n",
       "      <td>10311</td>\n",
       "      <td>...</td>\n",
       "      <td>-1.0</td>\n",
       "      <td>0</td>\n",
       "      <td>AUD</td>\n",
       "      <td>NaN</td>\n",
       "      <td>277995</td>\n",
       "      <td>0</td>\n",
       "      <td>20130125</td>\n",
       "      <td>277995</td>\n",
       "      <td>20130125</td>\n",
       "      <td>49:58.7</td>\n",
       "    </tr>\n",
       "    <tr>\n",
       "      <th>1</th>\n",
       "      <td>20130513</td>\n",
       "      <td>2013</td>\n",
       "      <td>11</td>\n",
       "      <td>2013</td>\n",
       "      <td>5</td>\n",
       "      <td>13</td>\n",
       "      <td>205</td>\n",
       "      <td>277000801</td>\n",
       "      <td>200</td>\n",
       "      <td>10311</td>\n",
       "      <td>...</td>\n",
       "      <td>1.0</td>\n",
       "      <td>0</td>\n",
       "      <td>AUD</td>\n",
       "      <td>NaN</td>\n",
       "      <td>749295</td>\n",
       "      <td>0</td>\n",
       "      <td>20130513</td>\n",
       "      <td>867468</td>\n",
       "      <td>20130510</td>\n",
       "      <td>49:58.7</td>\n",
       "    </tr>\n",
       "    <tr>\n",
       "      <th>2</th>\n",
       "      <td>20130611</td>\n",
       "      <td>2013</td>\n",
       "      <td>12</td>\n",
       "      <td>2013</td>\n",
       "      <td>6</td>\n",
       "      <td>11</td>\n",
       "      <td>205</td>\n",
       "      <td>292314701</td>\n",
       "      <td>200</td>\n",
       "      <td>10350</td>\n",
       "      <td>...</td>\n",
       "      <td>2.0</td>\n",
       "      <td>0</td>\n",
       "      <td>AUD</td>\n",
       "      <td>NaN</td>\n",
       "      <td>756507</td>\n",
       "      <td>0</td>\n",
       "      <td>20130611</td>\n",
       "      <td>880839</td>\n",
       "      <td>20130611</td>\n",
       "      <td>49:58.7</td>\n",
       "    </tr>\n",
       "    <tr>\n",
       "      <th>3</th>\n",
       "      <td>20130111</td>\n",
       "      <td>2013</td>\n",
       "      <td>7</td>\n",
       "      <td>2013</td>\n",
       "      <td>1</td>\n",
       "      <td>11</td>\n",
       "      <td>205</td>\n",
       "      <td>299480703</td>\n",
       "      <td>200</td>\n",
       "      <td>10350</td>\n",
       "      <td>...</td>\n",
       "      <td>1.0</td>\n",
       "      <td>0</td>\n",
       "      <td>AUD</td>\n",
       "      <td>NaN</td>\n",
       "      <td>724149</td>\n",
       "      <td>0</td>\n",
       "      <td>20130111</td>\n",
       "      <td>821554</td>\n",
       "      <td>20130111</td>\n",
       "      <td>49:58.7</td>\n",
       "    </tr>\n",
       "    <tr>\n",
       "      <th>4</th>\n",
       "      <td>20130321</td>\n",
       "      <td>2013</td>\n",
       "      <td>9</td>\n",
       "      <td>2013</td>\n",
       "      <td>3</td>\n",
       "      <td>21</td>\n",
       "      <td>205</td>\n",
       "      <td>471150015</td>\n",
       "      <td>400</td>\n",
       "      <td>10364</td>\n",
       "      <td>...</td>\n",
       "      <td>6.0</td>\n",
       "      <td>0</td>\n",
       "      <td>AUD</td>\n",
       "      <td>NaN</td>\n",
       "      <td>738377</td>\n",
       "      <td>0</td>\n",
       "      <td>20130321</td>\n",
       "      <td>847171</td>\n",
       "      <td>20130320</td>\n",
       "      <td>49:58.7</td>\n",
       "    </tr>\n",
       "  </tbody>\n",
       "</table>\n",
       "<p>5 rows × 41 columns</p>\n",
       "</div>"
      ],
      "text/plain": [
       "   accounting_date  fiscal_year  fiscal_month  calendar_year  calendar_month  \\\n",
       "0         20130125         2013             7           2013               1   \n",
       "1         20130513         2013            11           2013               5   \n",
       "2         20130611         2013            12           2013               6   \n",
       "3         20130111         2013             7           2013               1   \n",
       "4         20130321         2013             9           2013               3   \n",
       "\n",
       "   calendar_day  company_code customer_code  customer_district_code item_code  \\\n",
       "0            25           205     471150112                     400     10311   \n",
       "1            13           205     277000801                     200     10311   \n",
       "2            11           205     292314701                     200     10350   \n",
       "3            11           205     299480703                     200     10350   \n",
       "4            21           205     471150015                     400     10364   \n",
       "\n",
       "   ... value_quantity value_price_adjustment currency  item_source_class  \\\n",
       "0  ...           -1.0                      0      AUD                NaN   \n",
       "1  ...            1.0                      0      AUD                NaN   \n",
       "2  ...            2.0                      0      AUD                NaN   \n",
       "3  ...            1.0                      0      AUD                NaN   \n",
       "4  ...            6.0                      0      AUD                NaN   \n",
       "\n",
       "  invoice_number line_number invoice_date customer_order_number order_date  \\\n",
       "0         277995           0     20130125                277995   20130125   \n",
       "1         749295           0     20130513                867468   20130510   \n",
       "2         756507           0     20130611                880839   20130611   \n",
       "3         724149           0     20130111                821554   20130111   \n",
       "4         738377           0     20130321                847171   20130320   \n",
       "\n",
       "  dss_update_time  \n",
       "0         49:58.7  \n",
       "1         49:58.7  \n",
       "2         49:58.7  \n",
       "3         49:58.7  \n",
       "4         49:58.7  \n",
       "\n",
       "[5 rows x 41 columns]"
      ]
     },
     "execution_count": 4,
     "metadata": {},
     "output_type": "execute_result"
    }
   ],
   "source": [
    "df_2012 = pd.read_csv('2012_Data.csv', low_memory=False)\n",
    "df_2013 = pd.read_csv('2013_Data.csv', encoding='latin1', low_memory=False)\n",
    "\n",
    "\n",
    "#Print first 5 rows\n",
    "df_2012.head()\n",
    "df_2013.head()\n",
    "\n",
    "# df_2012 = pd.read_csv('2012_Data.csv', encoding='latin-1')  # or 'iso-8859-1' or other suitable encoding\n",
    "# df_2013 = pd.read_csv('2013_Data.csv', encoding='latin-1')  # Apply the same encoding for consistency\n",
    "\n",
    "# # Print first 5 rows\n",
    "# df_2012.head()\n",
    "# df_2013.head()"
   ]
  },
  {
   "cell_type": "code",
   "execution_count": 5,
   "metadata": {
    "ExecuteTime": {
     "end_time": "2024-10-26T08:46:57.315974Z",
     "start_time": "2024-10-26T08:46:56.489296Z"
    }
   },
   "outputs": [
    {
     "name": "stdout",
     "output_type": "stream",
     "text": [
      "<class 'pandas.core.frame.DataFrame'>\n",
      "RangeIndex: 1037205 entries, 0 to 1037204\n",
      "Data columns (total 41 columns):\n",
      " #   Column                    Non-Null Count    Dtype  \n",
      "---  ------                    --------------    -----  \n",
      " 0   accounting_date           1037205 non-null  int64  \n",
      " 1   fiscal_year               1037205 non-null  int64  \n",
      " 2   fiscal_month              1037205 non-null  int64  \n",
      " 3   calendar_year             1037205 non-null  int64  \n",
      " 4   calendar_month            1037205 non-null  int64  \n",
      " 5   calendar_day              1037205 non-null  int64  \n",
      " 6   company_code              1037205 non-null  int64  \n",
      " 7   customer_code             1037205 non-null  object \n",
      " 8   customer_district_code    1037205 non-null  int64  \n",
      " 9   item_code                 1037205 non-null  object \n",
      " 10  business_area_code        1037205 non-null  object \n",
      " 11  item_group_code           1037205 non-null  object \n",
      " 12  item_class_code           1037205 non-null  object \n",
      " 13  item_type                 1037205 non-null  int64  \n",
      " 14  bonus_group_code          1037205 non-null  object \n",
      " 15  environment_group_code    1037205 non-null  object \n",
      " 16  technology_group_code     1037205 non-null  object \n",
      " 17  commission_group_code     1037205 non-null  object \n",
      " 18  reporting_classification  1037205 non-null  object \n",
      " 19  light_source              1037205 non-null  object \n",
      " 20  warehouse_code            1037205 non-null  object \n",
      " 21  abc_class_code            1037205 non-null  object \n",
      " 22  abc_class_volume          1037205 non-null  object \n",
      " 23  business_chain_l1_code    1037205 non-null  object \n",
      " 24  business_chain_l1_name    1037205 non-null  object \n",
      " 25  contact_method_code       1037205 non-null  object \n",
      " 26  salesperson_code          1037205 non-null  object \n",
      " 27  order_type_code           1037205 non-null  object \n",
      " 28  market_segment            1037205 non-null  object \n",
      " 29  value_sales               1037205 non-null  float64\n",
      " 30  value_cost                1037205 non-null  float64\n",
      " 31  value_quantity            1037205 non-null  float64\n",
      " 32  value_price_adjustment    1037205 non-null  int64  \n",
      " 33  currency                  1037205 non-null  object \n",
      " 34  item_source_class         0 non-null        float64\n",
      " 35  invoice_number            1037205 non-null  int64  \n",
      " 36  line_number               1037205 non-null  int64  \n",
      " 37  invoice_date              1037205 non-null  int64  \n",
      " 38  customer_order_number     1037205 non-null  int64  \n",
      " 39  order_date                1037205 non-null  int64  \n",
      " 40  dss_update_time           1037205 non-null  object \n",
      "dtypes: float64(4), int64(15), object(22)\n",
      "memory usage: 324.4+ MB\n"
     ]
    }
   ],
   "source": [
    "df_2012.info()"
   ]
  },
  {
   "cell_type": "code",
   "execution_count": 6,
   "metadata": {
    "ExecuteTime": {
     "end_time": "2024-10-26T08:46:59.359714Z",
     "start_time": "2024-10-26T08:46:58.448553Z"
    }
   },
   "outputs": [
    {
     "name": "stdout",
     "output_type": "stream",
     "text": [
      "<class 'pandas.core.frame.DataFrame'>\n",
      "RangeIndex: 951177 entries, 0 to 951176\n",
      "Data columns (total 41 columns):\n",
      " #   Column                    Non-Null Count   Dtype  \n",
      "---  ------                    --------------   -----  \n",
      " 0   accounting_date           951177 non-null  int64  \n",
      " 1   fiscal_year               951177 non-null  int64  \n",
      " 2   fiscal_month              951177 non-null  int64  \n",
      " 3   calendar_year             951177 non-null  int64  \n",
      " 4   calendar_month            951177 non-null  int64  \n",
      " 5   calendar_day              951177 non-null  int64  \n",
      " 6   company_code              951177 non-null  int64  \n",
      " 7   customer_code             951177 non-null  object \n",
      " 8   customer_district_code    951177 non-null  int64  \n",
      " 9   item_code                 951177 non-null  object \n",
      " 10  business_area_code        951177 non-null  object \n",
      " 11  item_group_code           951177 non-null  object \n",
      " 12  item_class_code           951177 non-null  object \n",
      " 13  item_type                 951177 non-null  int64  \n",
      " 14  bonus_group_code          951177 non-null  object \n",
      " 15  environment_group_code    951177 non-null  object \n",
      " 16  technology_group_code     951177 non-null  object \n",
      " 17  commission_group_code     951177 non-null  object \n",
      " 18  reporting_classification  951177 non-null  object \n",
      " 19  light_source              951177 non-null  object \n",
      " 20  warehouse_code            951177 non-null  object \n",
      " 21  abc_class_code            951177 non-null  object \n",
      " 22  abc_class_volume          951177 non-null  object \n",
      " 23  business_chain_l1_code    951177 non-null  object \n",
      " 24  business_chain_l1_name    951177 non-null  object \n",
      " 25  contact_method_code       951177 non-null  object \n",
      " 26  salesperson_code          951177 non-null  object \n",
      " 27  order_type_code           951177 non-null  object \n",
      " 28  market_segment            951177 non-null  object \n",
      " 29  value_sales               951177 non-null  float64\n",
      " 30  value_cost                951177 non-null  float64\n",
      " 31  value_quantity            951177 non-null  float64\n",
      " 32  value_price_adjustment    951177 non-null  int64  \n",
      " 33  currency                  951177 non-null  object \n",
      " 34  item_source_class         0 non-null       float64\n",
      " 35  invoice_number            951177 non-null  int64  \n",
      " 36  line_number               951177 non-null  int64  \n",
      " 37  invoice_date              951177 non-null  int64  \n",
      " 38  customer_order_number     951177 non-null  object \n",
      " 39  order_date                951177 non-null  int64  \n",
      " 40  dss_update_time           951177 non-null  object \n",
      "dtypes: float64(4), int64(14), object(23)\n",
      "memory usage: 297.5+ MB\n"
     ]
    }
   ],
   "source": [
    "df_2013.info()"
   ]
  },
  {
   "cell_type": "code",
   "execution_count": 7,
   "metadata": {
    "ExecuteTime": {
     "end_time": "2024-10-26T08:47:00.991173Z",
     "start_time": "2024-10-26T08:47:00.986503Z"
    }
   },
   "outputs": [
    {
     "name": "stdout",
     "output_type": "stream",
     "text": [
      "Index(['accounting_date', 'fiscal_year', 'fiscal_month', 'calendar_year',\n",
      "       'calendar_month', 'calendar_day', 'company_code', 'customer_code',\n",
      "       'customer_district_code', 'item_code', 'business_area_code',\n",
      "       'item_group_code', 'item_class_code', 'item_type', 'bonus_group_code',\n",
      "       'environment_group_code', 'technology_group_code',\n",
      "       'commission_group_code', 'reporting_classification', 'light_source',\n",
      "       'warehouse_code', 'abc_class_code', 'abc_class_volume',\n",
      "       'business_chain_l1_code', 'business_chain_l1_name',\n",
      "       'contact_method_code', 'salesperson_code', 'order_type_code',\n",
      "       'market_segment', 'value_sales', 'value_cost', 'value_quantity',\n",
      "       'value_price_adjustment', 'currency', 'item_source_class',\n",
      "       'invoice_number', 'line_number', 'invoice_date',\n",
      "       'customer_order_number', 'order_date', 'dss_update_time'],\n",
      "      dtype='object')\n"
     ]
    }
   ],
   "source": [
    "# print all columns name\n",
    "print(df_2012.columns)"
   ]
  },
  {
   "cell_type": "code",
   "execution_count": 8,
   "metadata": {
    "ExecuteTime": {
     "end_time": "2024-10-26T08:47:09.349173Z",
     "start_time": "2024-10-26T08:47:09.344242Z"
    }
   },
   "outputs": [
    {
     "name": "stdout",
     "output_type": "stream",
     "text": [
      "Index(['accounting_date', 'fiscal_year', 'fiscal_month', 'calendar_year',\n",
      "       'calendar_month', 'calendar_day', 'company_code', 'customer_code',\n",
      "       'customer_district_code', 'item_code', 'business_area_code',\n",
      "       'item_group_code', 'item_class_code', 'item_type', 'bonus_group_code',\n",
      "       'environment_group_code', 'technology_group_code',\n",
      "       'commission_group_code', 'reporting_classification', 'light_source',\n",
      "       'warehouse_code', 'abc_class_code', 'abc_class_volume',\n",
      "       'business_chain_l1_code', 'business_chain_l1_name',\n",
      "       'contact_method_code', 'salesperson_code', 'order_type_code',\n",
      "       'market_segment', 'value_sales', 'value_cost', 'value_quantity',\n",
      "       'value_price_adjustment', 'currency', 'item_source_class',\n",
      "       'invoice_number', 'line_number', 'invoice_date',\n",
      "       'customer_order_number', 'order_date', 'dss_update_time'],\n",
      "      dtype='object')\n"
     ]
    }
   ],
   "source": [
    "print(df_2013.columns)"
   ]
  },
  {
   "cell_type": "code",
   "execution_count": 9,
   "metadata": {
    "ExecuteTime": {
     "end_time": "2024-10-26T08:47:25.148841Z",
     "start_time": "2024-10-26T08:47:24.317501Z"
    }
   },
   "outputs": [
    {
     "data": {
      "text/html": [
       "<div>\n",
       "<style scoped>\n",
       "    .dataframe tbody tr th:only-of-type {\n",
       "        vertical-align: middle;\n",
       "    }\n",
       "\n",
       "    .dataframe tbody tr th {\n",
       "        vertical-align: top;\n",
       "    }\n",
       "\n",
       "    .dataframe thead th {\n",
       "        text-align: right;\n",
       "    }\n",
       "</style>\n",
       "<table border=\"1\" class=\"dataframe\">\n",
       "  <thead>\n",
       "    <tr style=\"text-align: right;\">\n",
       "      <th></th>\n",
       "      <th>accounting_date</th>\n",
       "      <th>fiscal_year</th>\n",
       "      <th>fiscal_month</th>\n",
       "      <th>calendar_year</th>\n",
       "      <th>calendar_month</th>\n",
       "      <th>calendar_day</th>\n",
       "      <th>company_code</th>\n",
       "      <th>customer_district_code</th>\n",
       "      <th>item_type</th>\n",
       "      <th>value_sales</th>\n",
       "      <th>value_cost</th>\n",
       "      <th>value_quantity</th>\n",
       "      <th>value_price_adjustment</th>\n",
       "      <th>item_source_class</th>\n",
       "      <th>invoice_number</th>\n",
       "      <th>line_number</th>\n",
       "      <th>invoice_date</th>\n",
       "      <th>customer_order_number</th>\n",
       "      <th>order_date</th>\n",
       "    </tr>\n",
       "  </thead>\n",
       "  <tbody>\n",
       "    <tr>\n",
       "      <th>count</th>\n",
       "      <td>1.037205e+06</td>\n",
       "      <td>1.037205e+06</td>\n",
       "      <td>1.037205e+06</td>\n",
       "      <td>1037205.0</td>\n",
       "      <td>1.037205e+06</td>\n",
       "      <td>1.037205e+06</td>\n",
       "      <td>1.037205e+06</td>\n",
       "      <td>1.037205e+06</td>\n",
       "      <td>1.037205e+06</td>\n",
       "      <td>1.037205e+06</td>\n",
       "      <td>1.037205e+06</td>\n",
       "      <td>1.037205e+06</td>\n",
       "      <td>1.037205e+06</td>\n",
       "      <td>0.0</td>\n",
       "      <td>1.037205e+06</td>\n",
       "      <td>1.037205e+06</td>\n",
       "      <td>1.037205e+06</td>\n",
       "      <td>1.037205e+06</td>\n",
       "      <td>1.037205e+06</td>\n",
       "    </tr>\n",
       "    <tr>\n",
       "      <th>mean</th>\n",
       "      <td>2.012065e+07</td>\n",
       "      <td>2.012482e+03</td>\n",
       "      <td>6.561389e+00</td>\n",
       "      <td>2012.0</td>\n",
       "      <td>6.348191e+00</td>\n",
       "      <td>1.539114e+01</td>\n",
       "      <td>2.190146e+02</td>\n",
       "      <td>3.784317e+02</td>\n",
       "      <td>5.787587e+00</td>\n",
       "      <td>3.993924e+02</td>\n",
       "      <td>2.510165e+02</td>\n",
       "      <td>2.497064e+01</td>\n",
       "      <td>2.579047e-02</td>\n",
       "      <td>NaN</td>\n",
       "      <td>1.237727e+06</td>\n",
       "      <td>3.049002e-01</td>\n",
       "      <td>2.012065e+07</td>\n",
       "      <td>1.792116e+06</td>\n",
       "      <td>2.012054e+07</td>\n",
       "    </tr>\n",
       "    <tr>\n",
       "      <th>std</th>\n",
       "      <td>3.284399e+02</td>\n",
       "      <td>4.996845e-01</td>\n",
       "      <td>3.589389e+00</td>\n",
       "      <td>0.0</td>\n",
       "      <td>3.287332e+00</td>\n",
       "      <td>8.736315e+00</td>\n",
       "      <td>1.715110e+02</td>\n",
       "      <td>1.529866e+02</td>\n",
       "      <td>1.924757e+00</td>\n",
       "      <td>2.729269e+03</td>\n",
       "      <td>1.759255e+03</td>\n",
       "      <td>2.854730e+02</td>\n",
       "      <td>1.585098e-01</td>\n",
       "      <td>NaN</td>\n",
       "      <td>1.355065e+06</td>\n",
       "      <td>1.515477e+00</td>\n",
       "      <td>3.284399e+02</td>\n",
       "      <td>1.453451e+06</td>\n",
       "      <td>1.035938e+03</td>\n",
       "    </tr>\n",
       "    <tr>\n",
       "      <th>min</th>\n",
       "      <td>2.012010e+07</td>\n",
       "      <td>2.012000e+03</td>\n",
       "      <td>1.000000e+00</td>\n",
       "      <td>2012.0</td>\n",
       "      <td>1.000000e+00</td>\n",
       "      <td>1.000000e+00</td>\n",
       "      <td>1.000000e+02</td>\n",
       "      <td>2.000000e+02</td>\n",
       "      <td>1.000000e+00</td>\n",
       "      <td>-7.651000e+05</td>\n",
       "      <td>-1.414695e+05</td>\n",
       "      <td>-4.500000e+04</td>\n",
       "      <td>0.000000e+00</td>\n",
       "      <td>NaN</td>\n",
       "      <td>0.000000e+00</td>\n",
       "      <td>-9.200000e+01</td>\n",
       "      <td>2.012010e+07</td>\n",
       "      <td>2.576710e+05</td>\n",
       "      <td>2.010031e+07</td>\n",
       "    </tr>\n",
       "    <tr>\n",
       "      <th>25%</th>\n",
       "      <td>2.012040e+07</td>\n",
       "      <td>2.012000e+03</td>\n",
       "      <td>3.000000e+00</td>\n",
       "      <td>2012.0</td>\n",
       "      <td>4.000000e+00</td>\n",
       "      <td>8.000000e+00</td>\n",
       "      <td>2.050000e+02</td>\n",
       "      <td>2.100000e+02</td>\n",
       "      <td>5.000000e+00</td>\n",
       "      <td>2.288000e+01</td>\n",
       "      <td>9.630600e+00</td>\n",
       "      <td>2.000000e+00</td>\n",
       "      <td>0.000000e+00</td>\n",
       "      <td>NaN</td>\n",
       "      <td>6.507800e+05</td>\n",
       "      <td>0.000000e+00</td>\n",
       "      <td>2.012040e+07</td>\n",
       "      <td>7.354650e+05</td>\n",
       "      <td>2.012033e+07</td>\n",
       "    </tr>\n",
       "    <tr>\n",
       "      <th>50%</th>\n",
       "      <td>2.012062e+07</td>\n",
       "      <td>2.012000e+03</td>\n",
       "      <td>7.000000e+00</td>\n",
       "      <td>2012.0</td>\n",
       "      <td>6.000000e+00</td>\n",
       "      <td>1.500000e+01</td>\n",
       "      <td>2.050000e+02</td>\n",
       "      <td>4.000000e+02</td>\n",
       "      <td>7.000000e+00</td>\n",
       "      <td>6.700000e+01</td>\n",
       "      <td>3.118750e+01</td>\n",
       "      <td>6.000000e+00</td>\n",
       "      <td>0.000000e+00</td>\n",
       "      <td>NaN</td>\n",
       "      <td>7.086960e+05</td>\n",
       "      <td>0.000000e+00</td>\n",
       "      <td>2.012062e+07</td>\n",
       "      <td>1.373569e+06</td>\n",
       "      <td>2.012062e+07</td>\n",
       "    </tr>\n",
       "    <tr>\n",
       "      <th>75%</th>\n",
       "      <td>2.012092e+07</td>\n",
       "      <td>2.013000e+03</td>\n",
       "      <td>1.000000e+01</td>\n",
       "      <td>2012.0</td>\n",
       "      <td>9.000000e+00</td>\n",
       "      <td>2.300000e+01</td>\n",
       "      <td>2.050000e+02</td>\n",
       "      <td>5.000000e+02</td>\n",
       "      <td>7.000000e+00</td>\n",
       "      <td>1.959400e+02</td>\n",
       "      <td>1.010500e+02</td>\n",
       "      <td>2.000000e+01</td>\n",
       "      <td>0.000000e+00</td>\n",
       "      <td>NaN</td>\n",
       "      <td>2.195699e+06</td>\n",
       "      <td>1.000000e+00</td>\n",
       "      <td>2.012092e+07</td>\n",
       "      <td>2.867882e+06</td>\n",
       "      <td>2.012091e+07</td>\n",
       "    </tr>\n",
       "    <tr>\n",
       "      <th>max</th>\n",
       "      <td>2.012123e+07</td>\n",
       "      <td>2.013000e+03</td>\n",
       "      <td>1.200000e+01</td>\n",
       "      <td>2012.0</td>\n",
       "      <td>1.200000e+01</td>\n",
       "      <td>3.100000e+01</td>\n",
       "      <td>9.500000e+02</td>\n",
       "      <td>7.200000e+02</td>\n",
       "      <td>9.000000e+00</td>\n",
       "      <td>7.651000e+05</td>\n",
       "      <td>3.290644e+05</td>\n",
       "      <td>6.600000e+04</td>\n",
       "      <td>1.000000e+00</td>\n",
       "      <td>NaN</td>\n",
       "      <td>7.002357e+06</td>\n",
       "      <td>3.200000e+01</td>\n",
       "      <td>2.012123e+07</td>\n",
       "      <td>9.065931e+06</td>\n",
       "      <td>2.012123e+07</td>\n",
       "    </tr>\n",
       "  </tbody>\n",
       "</table>\n",
       "</div>"
      ],
      "text/plain": [
       "       accounting_date   fiscal_year  fiscal_month  calendar_year  \\\n",
       "count     1.037205e+06  1.037205e+06  1.037205e+06      1037205.0   \n",
       "mean      2.012065e+07  2.012482e+03  6.561389e+00         2012.0   \n",
       "std       3.284399e+02  4.996845e-01  3.589389e+00            0.0   \n",
       "min       2.012010e+07  2.012000e+03  1.000000e+00         2012.0   \n",
       "25%       2.012040e+07  2.012000e+03  3.000000e+00         2012.0   \n",
       "50%       2.012062e+07  2.012000e+03  7.000000e+00         2012.0   \n",
       "75%       2.012092e+07  2.013000e+03  1.000000e+01         2012.0   \n",
       "max       2.012123e+07  2.013000e+03  1.200000e+01         2012.0   \n",
       "\n",
       "       calendar_month  calendar_day  company_code  customer_district_code  \\\n",
       "count    1.037205e+06  1.037205e+06  1.037205e+06            1.037205e+06   \n",
       "mean     6.348191e+00  1.539114e+01  2.190146e+02            3.784317e+02   \n",
       "std      3.287332e+00  8.736315e+00  1.715110e+02            1.529866e+02   \n",
       "min      1.000000e+00  1.000000e+00  1.000000e+02            2.000000e+02   \n",
       "25%      4.000000e+00  8.000000e+00  2.050000e+02            2.100000e+02   \n",
       "50%      6.000000e+00  1.500000e+01  2.050000e+02            4.000000e+02   \n",
       "75%      9.000000e+00  2.300000e+01  2.050000e+02            5.000000e+02   \n",
       "max      1.200000e+01  3.100000e+01  9.500000e+02            7.200000e+02   \n",
       "\n",
       "          item_type   value_sales    value_cost  value_quantity  \\\n",
       "count  1.037205e+06  1.037205e+06  1.037205e+06    1.037205e+06   \n",
       "mean   5.787587e+00  3.993924e+02  2.510165e+02    2.497064e+01   \n",
       "std    1.924757e+00  2.729269e+03  1.759255e+03    2.854730e+02   \n",
       "min    1.000000e+00 -7.651000e+05 -1.414695e+05   -4.500000e+04   \n",
       "25%    5.000000e+00  2.288000e+01  9.630600e+00    2.000000e+00   \n",
       "50%    7.000000e+00  6.700000e+01  3.118750e+01    6.000000e+00   \n",
       "75%    7.000000e+00  1.959400e+02  1.010500e+02    2.000000e+01   \n",
       "max    9.000000e+00  7.651000e+05  3.290644e+05    6.600000e+04   \n",
       "\n",
       "       value_price_adjustment  item_source_class  invoice_number  \\\n",
       "count            1.037205e+06                0.0    1.037205e+06   \n",
       "mean             2.579047e-02                NaN    1.237727e+06   \n",
       "std              1.585098e-01                NaN    1.355065e+06   \n",
       "min              0.000000e+00                NaN    0.000000e+00   \n",
       "25%              0.000000e+00                NaN    6.507800e+05   \n",
       "50%              0.000000e+00                NaN    7.086960e+05   \n",
       "75%              0.000000e+00                NaN    2.195699e+06   \n",
       "max              1.000000e+00                NaN    7.002357e+06   \n",
       "\n",
       "        line_number  invoice_date  customer_order_number    order_date  \n",
       "count  1.037205e+06  1.037205e+06           1.037205e+06  1.037205e+06  \n",
       "mean   3.049002e-01  2.012065e+07           1.792116e+06  2.012054e+07  \n",
       "std    1.515477e+00  3.284399e+02           1.453451e+06  1.035938e+03  \n",
       "min   -9.200000e+01  2.012010e+07           2.576710e+05  2.010031e+07  \n",
       "25%    0.000000e+00  2.012040e+07           7.354650e+05  2.012033e+07  \n",
       "50%    0.000000e+00  2.012062e+07           1.373569e+06  2.012062e+07  \n",
       "75%    1.000000e+00  2.012092e+07           2.867882e+06  2.012091e+07  \n",
       "max    3.200000e+01  2.012123e+07           9.065931e+06  2.012123e+07  "
      ]
     },
     "execution_count": 9,
     "metadata": {},
     "output_type": "execute_result"
    }
   ],
   "source": [
    "df_2012.describe()"
   ]
  },
  {
   "cell_type": "code",
   "execution_count": 10,
   "metadata": {
    "ExecuteTime": {
     "end_time": "2024-10-26T08:48:16.527829Z",
     "start_time": "2024-10-26T08:48:15.987537Z"
    }
   },
   "outputs": [
    {
     "data": {
      "text/html": [
       "<div>\n",
       "<style scoped>\n",
       "    .dataframe tbody tr th:only-of-type {\n",
       "        vertical-align: middle;\n",
       "    }\n",
       "\n",
       "    .dataframe tbody tr th {\n",
       "        vertical-align: top;\n",
       "    }\n",
       "\n",
       "    .dataframe thead th {\n",
       "        text-align: right;\n",
       "    }\n",
       "</style>\n",
       "<table border=\"1\" class=\"dataframe\">\n",
       "  <thead>\n",
       "    <tr style=\"text-align: right;\">\n",
       "      <th></th>\n",
       "      <th>accounting_date</th>\n",
       "      <th>fiscal_year</th>\n",
       "      <th>fiscal_month</th>\n",
       "      <th>calendar_year</th>\n",
       "      <th>calendar_month</th>\n",
       "      <th>calendar_day</th>\n",
       "      <th>company_code</th>\n",
       "      <th>customer_district_code</th>\n",
       "      <th>item_type</th>\n",
       "      <th>value_sales</th>\n",
       "      <th>value_cost</th>\n",
       "      <th>value_quantity</th>\n",
       "      <th>value_price_adjustment</th>\n",
       "      <th>item_source_class</th>\n",
       "      <th>invoice_number</th>\n",
       "      <th>line_number</th>\n",
       "      <th>invoice_date</th>\n",
       "      <th>order_date</th>\n",
       "    </tr>\n",
       "  </thead>\n",
       "  <tbody>\n",
       "    <tr>\n",
       "      <th>count</th>\n",
       "      <td>9.511770e+05</td>\n",
       "      <td>951177.000000</td>\n",
       "      <td>951177.000000</td>\n",
       "      <td>951177.0</td>\n",
       "      <td>951177.000000</td>\n",
       "      <td>951177.000000</td>\n",
       "      <td>951177.000000</td>\n",
       "      <td>951177.000000</td>\n",
       "      <td>951177.000000</td>\n",
       "      <td>951177.000000</td>\n",
       "      <td>951177.000000</td>\n",
       "      <td>951177.000000</td>\n",
       "      <td>951177.000000</td>\n",
       "      <td>0.0</td>\n",
       "      <td>9.511770e+05</td>\n",
       "      <td>951177.000000</td>\n",
       "      <td>9.511770e+05</td>\n",
       "      <td>9.511770e+05</td>\n",
       "    </tr>\n",
       "    <tr>\n",
       "      <th>mean</th>\n",
       "      <td>2.013066e+07</td>\n",
       "      <td>2013.497436</td>\n",
       "      <td>6.484989</td>\n",
       "      <td>2013.0</td>\n",
       "      <td>6.454225</td>\n",
       "      <td>15.539701</td>\n",
       "      <td>242.005070</td>\n",
       "      <td>385.416253</td>\n",
       "      <td>5.887521</td>\n",
       "      <td>421.248480</td>\n",
       "      <td>277.768611</td>\n",
       "      <td>29.589674</td>\n",
       "      <td>0.022920</td>\n",
       "      <td>NaN</td>\n",
       "      <td>1.285178e+06</td>\n",
       "      <td>0.422750</td>\n",
       "      <td>2.013066e+07</td>\n",
       "      <td>2.013059e+07</td>\n",
       "    </tr>\n",
       "    <tr>\n",
       "      <th>std</th>\n",
       "      <td>3.206147e+02</td>\n",
       "      <td>0.499994</td>\n",
       "      <td>3.654497</td>\n",
       "      <td>0.0</td>\n",
       "      <td>3.211045</td>\n",
       "      <td>8.627731</td>\n",
       "      <td>196.626987</td>\n",
       "      <td>152.400074</td>\n",
       "      <td>1.847375</td>\n",
       "      <td>3144.343589</td>\n",
       "      <td>2326.849175</td>\n",
       "      <td>371.534013</td>\n",
       "      <td>0.149649</td>\n",
       "      <td>NaN</td>\n",
       "      <td>1.354810e+06</td>\n",
       "      <td>1.914554</td>\n",
       "      <td>3.206147e+02</td>\n",
       "      <td>8.806149e+02</td>\n",
       "    </tr>\n",
       "    <tr>\n",
       "      <th>min</th>\n",
       "      <td>2.013010e+07</td>\n",
       "      <td>2013.000000</td>\n",
       "      <td>1.000000</td>\n",
       "      <td>2013.0</td>\n",
       "      <td>1.000000</td>\n",
       "      <td>1.000000</td>\n",
       "      <td>100.000000</td>\n",
       "      <td>100.000000</td>\n",
       "      <td>1.000000</td>\n",
       "      <td>-793541.980000</td>\n",
       "      <td>-85008.000000</td>\n",
       "      <td>-21000.000000</td>\n",
       "      <td>0.000000</td>\n",
       "      <td>NaN</td>\n",
       "      <td>0.000000e+00</td>\n",
       "      <td>-88.000000</td>\n",
       "      <td>2.013010e+07</td>\n",
       "      <td>2.009033e+07</td>\n",
       "    </tr>\n",
       "    <tr>\n",
       "      <th>25%</th>\n",
       "      <td>2.013041e+07</td>\n",
       "      <td>2013.000000</td>\n",
       "      <td>3.000000</td>\n",
       "      <td>2013.0</td>\n",
       "      <td>4.000000</td>\n",
       "      <td>8.000000</td>\n",
       "      <td>205.000000</td>\n",
       "      <td>300.000000</td>\n",
       "      <td>5.000000</td>\n",
       "      <td>23.200000</td>\n",
       "      <td>9.123900</td>\n",
       "      <td>2.000000</td>\n",
       "      <td>0.000000</td>\n",
       "      <td>NaN</td>\n",
       "      <td>7.279740e+05</td>\n",
       "      <td>0.000000</td>\n",
       "      <td>2.013041e+07</td>\n",
       "      <td>2.013041e+07</td>\n",
       "    </tr>\n",
       "    <tr>\n",
       "      <th>50%</th>\n",
       "      <td>2.013063e+07</td>\n",
       "      <td>2013.000000</td>\n",
       "      <td>7.000000</td>\n",
       "      <td>2013.0</td>\n",
       "      <td>6.000000</td>\n",
       "      <td>15.000000</td>\n",
       "      <td>205.000000</td>\n",
       "      <td>400.000000</td>\n",
       "      <td>7.000000</td>\n",
       "      <td>68.000000</td>\n",
       "      <td>30.969600</td>\n",
       "      <td>6.000000</td>\n",
       "      <td>0.000000</td>\n",
       "      <td>NaN</td>\n",
       "      <td>7.831760e+05</td>\n",
       "      <td>0.000000</td>\n",
       "      <td>2.013063e+07</td>\n",
       "      <td>2.013062e+07</td>\n",
       "    </tr>\n",
       "    <tr>\n",
       "      <th>75%</th>\n",
       "      <td>2.013092e+07</td>\n",
       "      <td>2014.000000</td>\n",
       "      <td>10.000000</td>\n",
       "      <td>2013.0</td>\n",
       "      <td>9.000000</td>\n",
       "      <td>23.000000</td>\n",
       "      <td>205.000000</td>\n",
       "      <td>500.000000</td>\n",
       "      <td>7.000000</td>\n",
       "      <td>199.000000</td>\n",
       "      <td>103.042800</td>\n",
       "      <td>20.000000</td>\n",
       "      <td>0.000000</td>\n",
       "      <td>NaN</td>\n",
       "      <td>2.330035e+06</td>\n",
       "      <td>1.000000</td>\n",
       "      <td>2.013092e+07</td>\n",
       "      <td>2.013092e+07</td>\n",
       "    </tr>\n",
       "    <tr>\n",
       "      <th>max</th>\n",
       "      <td>2.013123e+07</td>\n",
       "      <td>2014.000000</td>\n",
       "      <td>12.000000</td>\n",
       "      <td>2013.0</td>\n",
       "      <td>12.000000</td>\n",
       "      <td>31.000000</td>\n",
       "      <td>950.000000</td>\n",
       "      <td>720.000000</td>\n",
       "      <td>9.000000</td>\n",
       "      <td>793541.980000</td>\n",
       "      <td>777669.200000</td>\n",
       "      <td>105000.000000</td>\n",
       "      <td>1.000000</td>\n",
       "      <td>NaN</td>\n",
       "      <td>7.003023e+06</td>\n",
       "      <td>49.000000</td>\n",
       "      <td>2.013123e+07</td>\n",
       "      <td>2.013123e+07</td>\n",
       "    </tr>\n",
       "  </tbody>\n",
       "</table>\n",
       "</div>"
      ],
      "text/plain": [
       "       accounting_date    fiscal_year   fiscal_month  calendar_year  \\\n",
       "count     9.511770e+05  951177.000000  951177.000000       951177.0   \n",
       "mean      2.013066e+07    2013.497436       6.484989         2013.0   \n",
       "std       3.206147e+02       0.499994       3.654497            0.0   \n",
       "min       2.013010e+07    2013.000000       1.000000         2013.0   \n",
       "25%       2.013041e+07    2013.000000       3.000000         2013.0   \n",
       "50%       2.013063e+07    2013.000000       7.000000         2013.0   \n",
       "75%       2.013092e+07    2014.000000      10.000000         2013.0   \n",
       "max       2.013123e+07    2014.000000      12.000000         2013.0   \n",
       "\n",
       "       calendar_month   calendar_day   company_code  customer_district_code  \\\n",
       "count   951177.000000  951177.000000  951177.000000           951177.000000   \n",
       "mean         6.454225      15.539701     242.005070              385.416253   \n",
       "std          3.211045       8.627731     196.626987              152.400074   \n",
       "min          1.000000       1.000000     100.000000              100.000000   \n",
       "25%          4.000000       8.000000     205.000000              300.000000   \n",
       "50%          6.000000      15.000000     205.000000              400.000000   \n",
       "75%          9.000000      23.000000     205.000000              500.000000   \n",
       "max         12.000000      31.000000     950.000000              720.000000   \n",
       "\n",
       "           item_type    value_sales     value_cost  value_quantity  \\\n",
       "count  951177.000000  951177.000000  951177.000000   951177.000000   \n",
       "mean        5.887521     421.248480     277.768611       29.589674   \n",
       "std         1.847375    3144.343589    2326.849175      371.534013   \n",
       "min         1.000000 -793541.980000  -85008.000000   -21000.000000   \n",
       "25%         5.000000      23.200000       9.123900        2.000000   \n",
       "50%         7.000000      68.000000      30.969600        6.000000   \n",
       "75%         7.000000     199.000000     103.042800       20.000000   \n",
       "max         9.000000  793541.980000  777669.200000   105000.000000   \n",
       "\n",
       "       value_price_adjustment  item_source_class  invoice_number  \\\n",
       "count           951177.000000                0.0    9.511770e+05   \n",
       "mean                 0.022920                NaN    1.285178e+06   \n",
       "std                  0.149649                NaN    1.354810e+06   \n",
       "min                  0.000000                NaN    0.000000e+00   \n",
       "25%                  0.000000                NaN    7.279740e+05   \n",
       "50%                  0.000000                NaN    7.831760e+05   \n",
       "75%                  0.000000                NaN    2.330035e+06   \n",
       "max                  1.000000                NaN    7.003023e+06   \n",
       "\n",
       "         line_number  invoice_date    order_date  \n",
       "count  951177.000000  9.511770e+05  9.511770e+05  \n",
       "mean        0.422750  2.013066e+07  2.013059e+07  \n",
       "std         1.914554  3.206147e+02  8.806149e+02  \n",
       "min       -88.000000  2.013010e+07  2.009033e+07  \n",
       "25%         0.000000  2.013041e+07  2.013041e+07  \n",
       "50%         0.000000  2.013063e+07  2.013062e+07  \n",
       "75%         1.000000  2.013092e+07  2.013092e+07  \n",
       "max        49.000000  2.013123e+07  2.013123e+07  "
      ]
     },
     "execution_count": 10,
     "metadata": {},
     "output_type": "execute_result"
    }
   ],
   "source": [
    "df_2013.describe()"
   ]
  },
  {
   "cell_type": "code",
   "execution_count": 11,
   "metadata": {
    "ExecuteTime": {
     "end_time": "2024-10-26T08:48:20.660588Z",
     "start_time": "2024-10-26T08:48:19.863257Z"
    }
   },
   "outputs": [
    {
     "data": {
      "text/plain": [
       "accounting_date                   0\n",
       "fiscal_year                       0\n",
       "fiscal_month                      0\n",
       "calendar_year                     0\n",
       "calendar_month                    0\n",
       "calendar_day                      0\n",
       "company_code                      0\n",
       "customer_code                     0\n",
       "customer_district_code            0\n",
       "item_code                         0\n",
       "business_area_code                0\n",
       "item_group_code                   0\n",
       "item_class_code                   0\n",
       "item_type                         0\n",
       "bonus_group_code                  0\n",
       "environment_group_code            0\n",
       "technology_group_code             0\n",
       "commission_group_code             0\n",
       "reporting_classification          0\n",
       "light_source                      0\n",
       "warehouse_code                    0\n",
       "abc_class_code                    0\n",
       "abc_class_volume                  0\n",
       "business_chain_l1_code            0\n",
       "business_chain_l1_name            0\n",
       "contact_method_code               0\n",
       "salesperson_code                  0\n",
       "order_type_code                   0\n",
       "market_segment                    0\n",
       "value_sales                       0\n",
       "value_cost                        0\n",
       "value_quantity                    0\n",
       "value_price_adjustment            0\n",
       "currency                          0\n",
       "item_source_class           1037205\n",
       "invoice_number                    0\n",
       "line_number                       0\n",
       "invoice_date                      0\n",
       "customer_order_number             0\n",
       "order_date                        0\n",
       "dss_update_time                   0\n",
       "dtype: int64"
      ]
     },
     "execution_count": 11,
     "metadata": {},
     "output_type": "execute_result"
    }
   ],
   "source": [
    "df_2012.isnull().sum()"
   ]
  },
  {
   "cell_type": "code",
   "execution_count": 12,
   "metadata": {},
   "outputs": [
    {
     "data": {
      "text/plain": [
       "accounting_date                  0\n",
       "fiscal_year                      0\n",
       "fiscal_month                     0\n",
       "calendar_year                    0\n",
       "calendar_month                   0\n",
       "calendar_day                     0\n",
       "company_code                     0\n",
       "customer_code                    0\n",
       "customer_district_code           0\n",
       "item_code                        0\n",
       "business_area_code               0\n",
       "item_group_code                  0\n",
       "item_class_code                  0\n",
       "item_type                        0\n",
       "bonus_group_code                 0\n",
       "environment_group_code           0\n",
       "technology_group_code            0\n",
       "commission_group_code            0\n",
       "reporting_classification         0\n",
       "light_source                     0\n",
       "warehouse_code                   0\n",
       "abc_class_code                   0\n",
       "abc_class_volume                 0\n",
       "business_chain_l1_code           0\n",
       "business_chain_l1_name           0\n",
       "contact_method_code              0\n",
       "salesperson_code                 0\n",
       "order_type_code                  0\n",
       "market_segment                   0\n",
       "value_sales                      0\n",
       "value_cost                       0\n",
       "value_quantity                   0\n",
       "value_price_adjustment           0\n",
       "currency                         0\n",
       "item_source_class           951177\n",
       "invoice_number                   0\n",
       "line_number                      0\n",
       "invoice_date                     0\n",
       "customer_order_number            0\n",
       "order_date                       0\n",
       "dss_update_time                  0\n",
       "dtype: int64"
      ]
     },
     "execution_count": 12,
     "metadata": {},
     "output_type": "execute_result"
    }
   ],
   "source": [
    "df_2013.isnull().sum()"
   ]
  },
  {
   "cell_type": "code",
   "execution_count": 13,
   "metadata": {},
   "outputs": [
    {
     "name": "stdout",
     "output_type": "stream",
     "text": [
      "[2012 2013]\n"
     ]
    }
   ],
   "source": [
    "# list all unique values in 'fiscal_year' column to see unique values\n",
    "print(df_2012['fiscal_year'].unique())"
   ]
  },
  {
   "cell_type": "code",
   "execution_count": 14,
   "metadata": {
    "ExecuteTime": {
     "end_time": "2024-10-26T08:49:18.920885Z",
     "start_time": "2024-10-26T08:49:18.911664Z"
    }
   },
   "outputs": [
    {
     "name": "stdout",
     "output_type": "stream",
     "text": [
      "[2013 2014]\n"
     ]
    }
   ],
   "source": [
    "# list all unique values in 'fiscal_year' column to see unique values\n",
    "print(df_2013['fiscal_year'].unique())"
   ]
  },
  {
   "cell_type": "code",
   "execution_count": 15,
   "metadata": {
    "ExecuteTime": {
     "end_time": "2024-10-26T08:50:10.721834Z",
     "start_time": "2024-10-26T08:50:10.702376Z"
    }
   },
   "outputs": [
    {
     "name": "stdout",
     "output_type": "stream",
     "text": [
      "[2012]\n"
     ]
    }
   ],
   "source": [
    "# list all unique values in 'calendar_year' column to see unique values\n",
    "print(df_2012['calendar_year'].unique())"
   ]
  },
  {
   "cell_type": "code",
   "execution_count": 16,
   "metadata": {},
   "outputs": [
    {
     "name": "stdout",
     "output_type": "stream",
     "text": [
      "[2013]\n"
     ]
    }
   ],
   "source": [
    "# list all unique values in 'calendar_year' column to see unique values for 2013 data\n",
    "print(df_2013['calendar_year'].unique())"
   ]
  },
  {
   "cell_type": "code",
   "execution_count": 17,
   "metadata": {},
   "outputs": [
    {
     "data": {
      "text/plain": [
       "True"
      ]
     },
     "execution_count": 17,
     "metadata": {},
     "output_type": "execute_result"
    }
   ],
   "source": [
    "df_2012['calendar_year'].unique().size == 1"
   ]
  },
  {
   "cell_type": "code",
   "execution_count": 18,
   "metadata": {
    "ExecuteTime": {
     "end_time": "2024-10-26T08:54:04.632519Z",
     "start_time": "2024-10-26T08:54:04.622544Z"
    }
   },
   "outputs": [
    {
     "data": {
      "text/plain": [
       "True"
      ]
     },
     "execution_count": 18,
     "metadata": {},
     "output_type": "execute_result"
    }
   ],
   "source": [
    "df_2013['calendar_year'].unique().size == 1"
   ]
  },
  {
   "cell_type": "code",
   "execution_count": 19,
   "metadata": {
    "ExecuteTime": {
     "end_time": "2024-10-26T08:54:50.871077Z",
     "start_time": "2024-10-26T08:54:49.369220Z"
    }
   },
   "outputs": [
    {
     "name": "stdout",
     "output_type": "stream",
     "text": [
      "calendar_year [2012]\n",
      "market_segment ['Commercial & Industrial']\n",
      "item_source_class [nan]\n",
      "dss_update_time ['49:58.7']\n"
     ]
    }
   ],
   "source": [
    "# find all the columns that have singlue unique value. Print as column name and unique value\n",
    "for column in df_2012.columns:\n",
    "    if df_2012[column].unique().size == 1:\n",
    "        print(column, df_2012[column].unique())\n",
    "\n"
   ]
  },
  {
   "cell_type": "code",
   "execution_count": 20,
   "metadata": {},
   "outputs": [
    {
     "data": {
      "text/plain": [
       "41"
      ]
     },
     "execution_count": 20,
     "metadata": {},
     "output_type": "execute_result"
    }
   ],
   "source": [
    "# count number of columns fro 2012 data\n",
    "df_2012.columns.size"
   ]
  },
  {
   "cell_type": "code",
   "execution_count": 21,
   "metadata": {},
   "outputs": [
    {
     "name": "stdout",
     "output_type": "stream",
     "text": [
      "calendar_year [2013]\n",
      "market_segment ['Commercial & Industrial']\n",
      "item_source_class [nan]\n",
      "dss_update_time ['49:58.7']\n"
     ]
    }
   ],
   "source": [
    "# find all the columns that have singlue unique value. Print as column name and unique value\n",
    "for column in df_2013.columns:\n",
    "    if df_2013[column].unique().size == 1:\n",
    "        print(column, df_2013[column].unique())"
   ]
  },
  {
   "cell_type": "markdown",
   "metadata": {},
   "source": [
    "Columns with single unique value are:  \n",
    "- calendar 2012\n",
    "- market_segment Commerical & Industrial\n",
    "- item_source_class NAN\n",
    "- dss_update_time 49:58.7"
   ]
  },
  {
   "cell_type": "code",
   "execution_count": 22,
   "metadata": {},
   "outputs": [
    {
     "data": {
      "text/plain": [
       "41"
      ]
     },
     "execution_count": 22,
     "metadata": {},
     "output_type": "execute_result"
    }
   ],
   "source": [
    "# count number of columns for 2013 data\n",
    "df_2013.columns.size"
   ]
  },
  {
   "cell_type": "code",
   "execution_count": 23,
   "metadata": {
    "ExecuteTime": {
     "end_time": "2024-10-26T09:00:30.307341Z",
     "start_time": "2024-10-26T09:00:30.300739Z"
    }
   },
   "outputs": [
    {
     "name": "stdout",
     "output_type": "stream",
     "text": [
      "calendar_year column is present\n",
      "market_segment column is present\n",
      "item_source_class column is present\n",
      "dss_update_time column is present\n"
     ]
    }
   ],
   "source": [
    "# check if columns 'calendar_year', 'market_segment', 'item_source_class', 'dss_update_time' are present in the 2012 dataset\n",
    "for uniq_col in ['calendar_year', 'market_segment', 'item_source_class', 'dss_update_time']:\n",
    "    if uniq_col in df_2012.columns:\n",
    "        print(f'{uniq_col} column is present')\n",
    "        # remove the columns with single unique value if exists\n",
    "        df_2012.drop(columns=[uniq_col], inplace=True)\n"
   ]
  },
  {
   "cell_type": "code",
   "execution_count": 24,
   "metadata": {
    "ExecuteTime": {
     "end_time": "2024-10-26T09:00:44.556231Z",
     "start_time": "2024-10-26T09:00:44.548660Z"
    }
   },
   "outputs": [
    {
     "data": {
      "text/plain": [
       "37"
      ]
     },
     "execution_count": 24,
     "metadata": {},
     "output_type": "execute_result"
    }
   ],
   "source": [
    "df_2012.columns.size"
   ]
  },
  {
   "cell_type": "code",
   "execution_count": 25,
   "metadata": {
    "ExecuteTime": {
     "end_time": "2024-10-26T09:10:41.301666Z",
     "start_time": "2024-10-26T09:10:40.353926Z"
    }
   },
   "outputs": [
    {
     "data": {
      "text/plain": [
       "accounting_date             0\n",
       "fiscal_year                 0\n",
       "fiscal_month                0\n",
       "calendar_month              0\n",
       "calendar_day                0\n",
       "company_code                0\n",
       "customer_code               0\n",
       "customer_district_code      0\n",
       "item_code                   0\n",
       "business_area_code          0\n",
       "item_group_code             0\n",
       "item_class_code             0\n",
       "item_type                   0\n",
       "bonus_group_code            0\n",
       "environment_group_code      0\n",
       "technology_group_code       0\n",
       "commission_group_code       0\n",
       "reporting_classification    0\n",
       "light_source                0\n",
       "warehouse_code              0\n",
       "abc_class_code              0\n",
       "abc_class_volume            0\n",
       "business_chain_l1_code      0\n",
       "business_chain_l1_name      0\n",
       "contact_method_code         0\n",
       "salesperson_code            0\n",
       "order_type_code             0\n",
       "value_sales                 0\n",
       "value_cost                  0\n",
       "value_quantity              0\n",
       "value_price_adjustment      0\n",
       "currency                    0\n",
       "invoice_number              0\n",
       "line_number                 0\n",
       "invoice_date                0\n",
       "customer_order_number       0\n",
       "order_date                  0\n",
       "dtype: int64"
      ]
     },
     "execution_count": 25,
     "metadata": {},
     "output_type": "execute_result"
    }
   ],
   "source": [
    "# find the rows with missing values\n",
    "df_2012.isnull().sum()"
   ]
  },
  {
   "cell_type": "code",
   "execution_count": 26,
   "metadata": {
    "ExecuteTime": {
     "end_time": "2024-10-27T00:59:45.560802Z",
     "start_time": "2024-10-27T00:59:35.047032Z"
    }
   },
   "outputs": [],
   "source": [
    "# trim the leading and trailing spaces in the values from every column\n",
    "df_2012 = df_2012.map(lambda x: x.strip() if isinstance(x, str) else x)"
   ]
  },
  {
   "cell_type": "code",
   "execution_count": 27,
   "metadata": {},
   "outputs": [
    {
     "name": "stdout",
     "output_type": "stream",
     "text": [
      "calendar_year column is present\n",
      "market_segment column is present\n",
      "item_source_class column is present\n",
      "dss_update_time column is present\n"
     ]
    }
   ],
   "source": [
    "# check if columns 'calendar_year', 'market_segment', 'item_source_class', 'dss_update_time' are present in the 2013 dataset\n",
    "for uniq_col in ['calendar_year', 'market_segment', 'item_source_class', 'dss_update_time']:\n",
    "    if uniq_col in df_2013.columns:\n",
    "        print(f'{uniq_col} column is present')\n",
    "        # remove the columns with single unique value if exists\n",
    "        df_2013.drop(columns=[uniq_col], inplace=True)"
   ]
  },
  {
   "cell_type": "code",
   "execution_count": 28,
   "metadata": {},
   "outputs": [
    {
     "data": {
      "text/plain": [
       "37"
      ]
     },
     "execution_count": 28,
     "metadata": {},
     "output_type": "execute_result"
    }
   ],
   "source": [
    "df_2013.columns.size"
   ]
  },
  {
   "cell_type": "code",
   "execution_count": 29,
   "metadata": {},
   "outputs": [
    {
     "data": {
      "text/plain": [
       "accounting_date             0\n",
       "fiscal_year                 0\n",
       "fiscal_month                0\n",
       "calendar_month              0\n",
       "calendar_day                0\n",
       "company_code                0\n",
       "customer_code               0\n",
       "customer_district_code      0\n",
       "item_code                   0\n",
       "business_area_code          0\n",
       "item_group_code             0\n",
       "item_class_code             0\n",
       "item_type                   0\n",
       "bonus_group_code            0\n",
       "environment_group_code      0\n",
       "technology_group_code       0\n",
       "commission_group_code       0\n",
       "reporting_classification    0\n",
       "light_source                0\n",
       "warehouse_code              0\n",
       "abc_class_code              0\n",
       "abc_class_volume            0\n",
       "business_chain_l1_code      0\n",
       "business_chain_l1_name      0\n",
       "contact_method_code         0\n",
       "salesperson_code            0\n",
       "order_type_code             0\n",
       "value_sales                 0\n",
       "value_cost                  0\n",
       "value_quantity              0\n",
       "value_price_adjustment      0\n",
       "currency                    0\n",
       "invoice_number              0\n",
       "line_number                 0\n",
       "invoice_date                0\n",
       "customer_order_number       0\n",
       "order_date                  0\n",
       "dtype: int64"
      ]
     },
     "execution_count": 29,
     "metadata": {},
     "output_type": "execute_result"
    }
   ],
   "source": [
    "# find the rows with missing values\n",
    "df_2013.isnull().sum()"
   ]
  },
  {
   "cell_type": "code",
   "execution_count": 30,
   "metadata": {},
   "outputs": [],
   "source": [
    "# trim the leading and trailing spaces in the values from every column\n",
    "df_2013 = df_2013.map(lambda x: x.strip() if isinstance(x, str) else x)"
   ]
  },
  {
   "cell_type": "code",
   "execution_count": null,
   "metadata": {},
   "outputs": [],
   "source": []
  },
  {
   "cell_type": "code",
   "execution_count": 31,
   "metadata": {
    "ExecuteTime": {
     "end_time": "2024-10-27T00:59:46.795686Z",
     "start_time": "2024-10-27T00:59:46.752716Z"
    }
   },
   "outputs": [
    {
     "name": "stdout",
     "output_type": "stream",
     "text": [
      "No of invalid dates:  0\n"
     ]
    }
   ],
   "source": [
    "invalid_dates = pd.to_datetime(df_2012['accounting_date'], format='%Y%m%d', errors='coerce')\n",
    "\n",
    "# length of invalid_dates\n",
    "print(\"No of invalid dates: \",invalid_dates[invalid_dates.isnull()].size)\n",
    "\n",
    "# invalid_dates = df_2012['accounting_date'][invalid_dates.isnull()]\n",
    "# \n",
    "# # Print the rows with invalid dates\n",
    "# print(\"Rows with invalid dates:\")\n",
    "# print(invalid_dates)\n",
    "\n"
   ]
  },
  {
   "cell_type": "code",
   "execution_count": 32,
   "metadata": {
    "ExecuteTime": {
     "end_time": "2024-10-27T00:59:49.648749Z",
     "start_time": "2024-10-27T00:59:49.638053Z"
    }
   },
   "outputs": [
    {
     "name": "stdout",
     "output_type": "stream",
     "text": [
      "[1, 2, 3, 4, 5, 6, 7, 8, 9, 10, 11, 12]\n"
     ]
    }
   ],
   "source": [
    "# make sure the values fo 'fiscal_month' is between 1 and 12\n",
    "print(sorted(df_2012['fiscal_month'].unique()))"
   ]
  },
  {
   "cell_type": "markdown",
   "metadata": {},
   "source": [
    "fiscal month columns has values between 1 and 12"
   ]
  },
  {
   "cell_type": "code",
   "execution_count": 33,
   "metadata": {
    "ExecuteTime": {
     "end_time": "2024-10-27T00:59:52.678787Z",
     "start_time": "2024-10-27T00:59:52.622777Z"
    }
   },
   "outputs": [
    {
     "data": {
      "text/plain": [
       "array([2012, 2013])"
      ]
     },
     "execution_count": 33,
     "metadata": {},
     "output_type": "execute_result"
    }
   ],
   "source": [
    "df_2012['fiscal_year'].unique()"
   ]
  },
  {
   "cell_type": "code",
   "execution_count": 34,
   "metadata": {
    "ExecuteTime": {
     "end_time": "2024-10-27T01:00:08.308384Z",
     "start_time": "2024-10-27T01:00:08.299475Z"
    }
   },
   "outputs": [
    {
     "data": {
      "text/plain": [
       "[100, 101, 140, 170, 205, 220, 240, 510, 950]"
      ]
     },
     "execution_count": 34,
     "metadata": {},
     "output_type": "execute_result"
    }
   ],
   "source": [
    "sorted(df_2012['company_code'].unique())"
   ]
  },
  {
   "cell_type": "code",
   "execution_count": 35,
   "metadata": {},
   "outputs": [
    {
     "name": "stdout",
     "output_type": "stream",
     "text": [
      "No of invalid dates:  0\n"
     ]
    }
   ],
   "source": [
    "invalid_dates = pd.to_datetime(df_2013['accounting_date'], format='%Y%m%d', errors='coerce')\n",
    "\n",
    "# length of invalid_dates\n",
    "print(\"No of invalid dates: \",invalid_dates[invalid_dates.isnull()].size)\n"
   ]
  },
  {
   "cell_type": "code",
   "execution_count": 36,
   "metadata": {},
   "outputs": [
    {
     "name": "stdout",
     "output_type": "stream",
     "text": [
      "[1, 2, 3, 4, 5, 6, 7, 8, 9, 10, 11, 12]\n"
     ]
    }
   ],
   "source": [
    "\n",
    "print(sorted(df_2013['fiscal_month'].unique()))"
   ]
  },
  {
   "cell_type": "code",
   "execution_count": 37,
   "metadata": {},
   "outputs": [
    {
     "data": {
      "text/plain": [
       "array([2013, 2014])"
      ]
     },
     "execution_count": 37,
     "metadata": {},
     "output_type": "execute_result"
    }
   ],
   "source": [
    "df_2013['fiscal_year'].unique()"
   ]
  },
  {
   "cell_type": "code",
   "execution_count": 38,
   "metadata": {},
   "outputs": [
    {
     "data": {
      "text/plain": [
       "[100, 101, 120, 205, 240, 950]"
      ]
     },
     "execution_count": 38,
     "metadata": {},
     "output_type": "execute_result"
    }
   ],
   "source": [
    "sorted(df_2013['company_code'].unique())"
   ]
  },
  {
   "cell_type": "markdown",
   "metadata": {},
   "source": [
    "## Validate 'Business area code' column"
   ]
  },
  {
   "cell_type": "markdown",
   "metadata": {},
   "source": [
    "### Business area code (copied from metadata file)\n",
    "\n",
    "| business_area_code | business_area_code & Name                  |\n",
    "|--------------------|--------------------------------------------|\n",
    "| LMP                | LMP - LAMPS                                |\n",
    "| FLD                | FLD - FLOOD                                |\n",
    "| OTH                | OTH - OTHER                                |\n",
    "| SUR                | SUR - SURFACE                              |\n",
    "| COM                | COM - COMPONENTS                           |\n",
    "| DLT                | DLT - DOWNLIGHT                            |\n",
    "| TRO                | TRO - TROFFER                              |\n",
    "| URB                | URB - URBAN AMENITY                        |\n",
    "| HLB                | HLB - HIGHBAY/LOWBAY                       |\n",
    "| SAE                | SAE - STAND ALONE EMERGENCY                |\n",
    "| RWY                | RWY - ROADWAY                              |\n",
    "| LCP                | LCP - LIGHTING CONTROL                     |\n",
    "| PEN                | PEN - PENDANT                              |\n",
    "| EXL                | EXL - HEALTHCARE LIGHTNG                   |\n",
    "| TAL                | TAL - TRACK & LINEAR SYSTEMS               |\n",
    "| 945                | 945 - Architectural - Exterior             |\n",
    "| 950                | 950 - Commercial                           |\n",
    "| 980                | 980 - Trade/Retail - Interior              |\n",
    "| 920                | 920 - Flood                                |\n",
    "| 960                | 960 - Emergency                            |\n",
    "| 910                | 910 - Industrial                           |\n",
    "| 930                | 930 - Roadway                              |\n",
    "| 999                | 999 - Other                                |\n",
    "| 970                | 970 - Lamps                                |\n",
    "| 940                | 940 - Architectural - Interior             |\n",
    "| 985                | 985 - Trade/Retail - Exterior              |\n",
    "| IAE                | IAE - INLITE ARCHITECTURAL EXTERIOR        |\n",
    "| IAI                | IAI - INLITE ARCHITECTURAL INTERIOR        |"
   ]
  },
  {
   "cell_type": "code",
   "execution_count": 39,
   "metadata": {
    "ExecuteTime": {
     "end_time": "2024-10-27T01:01:03.486250Z",
     "start_time": "2024-10-27T01:01:03.429883Z"
    }
   },
   "outputs": [
    {
     "data": {
      "text/plain": [
       "False"
      ]
     },
     "execution_count": 39,
     "metadata": {},
     "output_type": "execute_result"
    }
   ],
   "source": [
    "# check that the values for business_area_code is one from the list [LMP, FLD, OTH, SUR, COM, DLT, TRO, URB, HLB, SAE, RWY, LCP, PEN, EXL, TAL, 945, 950, 980, 920, 960, 910, 930, 999, 970, 940, 985, IAE, IAI]\n",
    "\n",
    "business_area_code_list = ['LMP', 'FLD', 'OTH', 'SUR', 'COM', 'DLT', 'TRO', 'URB', 'HLB', 'SAE', 'RWY', 'LCP', 'PEN', 'EXL', 'TAL', '945', '950', '980', '920', '960', '910', '930', '999', '970', '940', '985', 'IAE', 'IAI']\n",
    "\n",
    "# check if the values in 'business_area_code' column are in the list\n",
    "len((df_2012['business_area_code'][~df_2012['business_area_code'].isin(business_area_code_list)])) > 0\n"
   ]
  },
  {
   "cell_type": "code",
   "execution_count": 40,
   "metadata": {},
   "outputs": [
    {
     "data": {
      "text/plain": [
       "False"
      ]
     },
     "execution_count": 40,
     "metadata": {},
     "output_type": "execute_result"
    }
   ],
   "source": [
    "# check if the values in 'business_area_code' column are in the list\n",
    "len((df_2013['business_area_code'][~df_2013['business_area_code'].isin(business_area_code_list)])) > 0"
   ]
  },
  {
   "cell_type": "markdown",
   "metadata": {},
   "source": [
    "This inidicates that the values in 'business_area_code' column are as expected"
   ]
  },
  {
   "cell_type": "markdown",
   "metadata": {},
   "source": [
    "## Validate 'Item class code' column"
   ]
  },
  {
   "cell_type": "code",
   "execution_count": 41,
   "metadata": {
    "ExecuteTime": {
     "end_time": "2024-10-27T01:04:07.024960Z",
     "start_time": "2024-10-27T01:04:06.930396Z"
    }
   },
   "outputs": [
    {
     "data": {
      "text/plain": [
       "array(['LMP01', 'FLD03', '14001', 'SUR08', 'FLD02', 'COM90', 'DLT01',\n",
       "       'TRO03', 'COM99', 'SUR80', 'URB04', 'FLD90', 'SUR09', 'COM08',\n",
       "       'HLB02', 'SAE02', 'TRO02', 'SUR01', 'RWY01', 'COM07', 'COM12',\n",
       "       'LCP02', 'LMP04', 'SAE90', 'SUR04', 'TRO90', 'SAE80', 'FLD01',\n",
       "       'SAE01', 'SUR99', 'SUR90', 'TRO80', 'DLT04', 'DLT02', 'PEN01',\n",
       "       'COM10', 'URB03', 'EXL01', 'DLT90', 'COM06', 'COM16', 'URB02',\n",
       "       'URB90', 'SUR05', 'TRO99', 'TRO01', 'COM19', 'SUR07', 'RWY90',\n",
       "       'HLB01', 'RWY02', 'FLD99', 'COM01', 'TAL05', 'LMP06', 'SUR03',\n",
       "       'HLB90', 'EXL06', 'EXL90', 'COM14', 'SUR06', 'COM09', 'TAL90',\n",
       "       'COM05', 'LMP03', 'COM03', 'COM17', 'RWY99', 'LCP01', 'COM15',\n",
       "       'RWY03', 'DLT99', 'LMP99', 'COM13', 'EXL99', 'COM04', 'COM18',\n",
       "       'HLB99', 'TAL04', 'SAE99', 'COM80', 'LMP09', 'URB99', 'COM02',\n",
       "       '4005', 'SUR02', 'RWY06', '4003', '2004', 'LMP10', 'COM11',\n",
       "       'LMP11', '2013', '2599', '1001', 'LMP07', '5002', '1002', '2003',\n",
       "       '8001', '2001', '2005', '5003', 'URB01', 'URB05', '6001', '2502',\n",
       "       '2011', 'LMP02', '2002', 'LMP05', '3002', 'COM70', '1999', 'DLT05',\n",
       "       'PEN90', '4004', '2016', '2505', '4002', '6002', '16135', '2503',\n",
       "       '3005', 'FLD04', '2008', '5004', '2604', 'EXL02', '5005', 'DLT03',\n",
       "       'TAL07', 'TAL99', 'EXL05', '16131', '17100', 'SUR10', '2501',\n",
       "       '16133', 'TAL01', 'TAL02', '16137', 'TAL08', '2512', '2516',\n",
       "       'SUR12', 'SUR11', '2515', 'SUR13', '2514', 'SUR14', '2508',\n",
       "       'IAE05', '2507', 'PEN04', '2511', 'PEN08', '2509', '2504', '2510',\n",
       "       '2517', '17200', '16121', '2513', 'LCP90', '3006', '2012', 'TAL06',\n",
       "       '15999', '11103', 'PEN09', '17300', 'LCP99', 'PEN10', 'LMP90',\n",
       "       '4599', '2603', '2006', '4009', '16134', '6003', 'RWY04', '16132',\n",
       "       'IAI10', 'LMP12', '16138', '4504', '2605', '2607', '4502', '4016',\n",
       "       'PEN03', '2007', '3999', '17001', 'IAI09', 'LMP08'], dtype=object)"
      ]
     },
     "execution_count": 41,
     "metadata": {},
     "output_type": "execute_result"
    }
   ],
   "source": [
    "df_2012['item_class_code'].unique()"
   ]
  },
  {
   "cell_type": "code",
   "execution_count": 42,
   "metadata": {},
   "outputs": [
    {
     "data": {
      "text/plain": [
       "array(['COM90', '14001', 'COM03', 'SUR01', 'LMP05', 'LMP04', 'PEN01',\n",
       "       '2011', 'COM99', 'LMP02', 'LMP03', 'COM17', 'TRO01', 'DLT02',\n",
       "       'DLT01', 'LMP06', 'SUR90', 'TAL90', '16131', 'LMP07', 'COM06',\n",
       "       'PEN90', 'LMP09', '17100', '2501', 'FLD04', 'LMP10', 'SUR12',\n",
       "       'TAL01', 'TAL08', 'LMP11', 'COM01', 'SUR10', '16137', 'TAL05',\n",
       "       '2512', 'SUR05', 'SUR07', 'SUR14', 'SUR11', 'DLT90', 'SUR06',\n",
       "       'SUR02', 'URB04', 'LMP01', 'FLD02', 'SUR99', 'URB90', 'DLT04',\n",
       "       'SUR13', 'COM08', '2509', '2510', 'COM05', 'TAL02', 'TAL99',\n",
       "       'SUR03', 'URB02', 'PEN08', '16121', 'SUR04', 'IAE05', 'URB01',\n",
       "       '2514', '2008', 'LMP99', '2504', 'COM10', 'PEN04', 'FLD90',\n",
       "       'LCP01', 'URB03', 'URB05', '2517', '2511', '2508', 'DLT03',\n",
       "       'SUR08', '2507', 'COM13', 'IAI10', 'LMP12', '5003', 'FLD03',\n",
       "       'PEN03', 'FLD01', '2505', 'COM02', 'COM12', 'SAE99', 'LCP90',\n",
       "       '2513', '2599', 'COM18', 'COM15', '16133', 'EXL06', 'HLB02',\n",
       "       'HLB90', 'TRO02', '2516', '2006', 'HLB99', 'RWY90', 'COM04',\n",
       "       'COM16', 'COM14', 'RWY99', 'COM09', '4005', 'DLT99', '2004',\n",
       "       'TRO90', 'COM19', 'SUR09', 'TRO03', 'RWY01', 'SAE02', 'SAE90',\n",
       "       'SAE01', '2604', 'SAE80', '3002', 'URB99', 'SUR80', 'TRO99',\n",
       "       '11103', 'HLB01', '2001', 'TRO80', 'LCP02', '1002', '8001',\n",
       "       'EXL90', '6002', 'COM07', 'EXL01', '5004', '2502', 'EXL05', '5002',\n",
       "       'COM11', 'LMP90', 'RWY02', '6001', '3999', 'RWY03', 'FLD99',\n",
       "       'EXL02', 'COM70', '1001', 'HLB80', 'TAL04', 'TAL07', 'TAL06',\n",
       "       '2016', '2503', '17001', 'EXL03', '2012', '16132', '6003', '16135',\n",
       "       'PEN09', '16134', '16138', '2603', '3006', '4504', 'PEN10', '5005',\n",
       "       'RWY05', '4004', 'RWY04', 'RWY06', 'EXL99', 'LCP99', '4599',\n",
       "       '4502', '2515', '15999', 'IAI09', 'LMP08', '2013', '4003', 'COM80',\n",
       "       'IAI05', '2002', '3005', '2003', 'PEN99', 'IAI08', '1999', '2607',\n",
       "       'IAI11'], dtype=object)"
      ]
     },
     "execution_count": 42,
     "metadata": {},
     "output_type": "execute_result"
    }
   ],
   "source": [
    "df_2013['item_class_code'].unique()"
   ]
  },
  {
   "cell_type": "code",
   "execution_count": 43,
   "metadata": {
    "ExecuteTime": {
     "end_time": "2024-10-27T01:04:37.740799Z",
     "start_time": "2024-10-27T01:04:37.652741Z"
    }
   },
   "outputs": [
    {
     "data": {
      "text/plain": [
       "array(['LMP01008', 'FLD03002', '999', 'SUR08001', 'FLD02002', 'COM90001',\n",
       "       'DLT01002', 'TRO03001', 'COM99001', 'SUR80001', 'URB04002',\n",
       "       'FLD90001', 'SUR09001', 'COM08001', 'HLB02002', 'URB04001',\n",
       "       'SAE02001', 'TRO02001', 'SUR01001', 'RWY01001', 'COM07001',\n",
       "       'COM12001', 'LCP02001', 'LMP04002', 'SAE90001', 'SUR04001',\n",
       "       'TRO90001', 'TRO02002', 'TRO02004', 'SAE80001', 'FLD01002',\n",
       "       'SAE01001', 'SAE02002', 'SUR99001', 'SUR90001', 'TRO80001',\n",
       "       'TRO03004', 'SAE01002', 'HLB02001', 'DLT04002', 'DLT02002',\n",
       "       'PEN01003', 'COM10001', 'URB03001', 'LMP01001', 'EXL01001',\n",
       "       'DLT90001', 'COM06001', 'COM16001', 'URB02001', 'URB90001',\n",
       "       'SUR05001', 'TRO99001', 'TRO01001', 'COM19001', 'TRO03002',\n",
       "       'SUR07002', 'RWY90001', 'FLD02004', 'HLB01001', 'RWY02001',\n",
       "       'FLD99001', 'SUR07001', 'COM01001', 'TAL05001', 'HLB01003',\n",
       "       'LMP06001', 'SUR03001', 'TRO03003', 'HLB90001', 'TRO02003',\n",
       "       'EXL06001', 'SUR07003', 'EXL90001', 'COM14001', 'SUR06002',\n",
       "       'COM09001', 'TAL90001', 'COM05001', 'LMP03002', 'COM03002',\n",
       "       'COM17001', 'SUR06001', 'RWY99001', 'LCP01004', 'COM03003',\n",
       "       'COM03001', 'COM15001', 'FLD01004', 'LMP06002', 'LMP03013',\n",
       "       'RWY03001', 'DLT01001', 'TRO01003', 'RWY01003', 'TRO02005',\n",
       "       'DLT99001', 'LMP99001', 'COM13001', 'EXL99001', 'LMP03001',\n",
       "       'COM04001', 'LCP01001', 'COM18001', 'HLB99001', 'TAL04001',\n",
       "       'SAE99001', 'COM80001', 'LMP03012', 'LMP06004', 'LMP04014',\n",
       "       'LMP09001', 'LMP01007', 'PEN01001', 'URB99001', 'COM02001',\n",
       "       'LMP01005', '270', 'SUR02001', 'RWY06001', '660', '50', 'LMP06010',\n",
       "       'LMP10014', 'LMP01002', 'COM11001', 'LMP11001', '271', '038B',\n",
       "       '427', 'LMP04013', '1', 'LMP07001', '97', '248', '2', '64', '40',\n",
       "       '533', '30', '720', '532', '336', '722', 'LMP04004', '74', '530',\n",
       "       '721', 'URB01002', 'URB05001', 'A42', '66', '350', '220', '94',\n",
       "       'LMP01006', '315', 'LMP06005', 'LMP10008', 'LMP10002', '10008',\n",
       "       'LMP06003', 'A45', 'LMP02001', '038A', 'LMP05015', '340', '342',\n",
       "       '130', 'COM70001', '82', '711', 'DLT05002', 'LMP01004', 'PEN90001',\n",
       "       'LMP10006', '28', '73', '10', '970', 'P12015', 'LMP07002', '531',\n",
       "       '10007', '198', 'B34', 'P12051', '208', '230', 'LMP03009', '11047',\n",
       "       '317', 'LMP03011', '300', 'B27', 'B31', '190', 'LMP04012', '704',\n",
       "       'FLD04002', '908', 'LMP04016', 'A48', '224', '308', 'DLT02003',\n",
       "       'DLT01003', 'EXL01002', '161', 'LMP05023', 'LMP03006', '95',\n",
       "       'LMP05003', 'LMP05002', '374', 'EXL02001', '195', '399', '53',\n",
       "       'DLT03002', 'TAL07001', 'TAL99001', 'LMP05017', '419', 'EXL02002',\n",
       "       '24', 'EXL05001', 'LMP03007', 'LMP03008', 'LMP03005', 'LMP05020',\n",
       "       'LMP05013', '16338', 'LMP05024', 'LMP05028', 'LMP05026', '17000',\n",
       "       'LMP04008', '16310', '17080', '17030', 'SUR10001', 'LMP05007',\n",
       "       'LMP05008', 'LMP05010', '17090', 'LMP05009', '250170', '250155',\n",
       "       '16332', '16340', '16320', 'LMP05019', '16318', 'LMP04006',\n",
       "       'LMP05025', 'LMP05012', '16102', 'LMP05014', 'LMP04017', '16324',\n",
       "       'LMP05018', 'LMP03015', 'TAL01001', 'TAL02001', '16606',\n",
       "       'FLD02003', 'TAL08001', '16612', 'LMP05016', 'LMP05001',\n",
       "       'LMP05005', 'LMP05004', '251230', 'LMP05027', '251235', 'LMP05022',\n",
       "       'LMP05006', '251625', 'LMP04011', 'FLD04001', 'LMP04001', '16602',\n",
       "       'LMP04019', '250505', 'SUR12001', 'SUR11001', '251545', 'SUR13001',\n",
       "       '251410', '251405', '250510', 'SUR14001', '250805', 'IAE05001',\n",
       "       'TAL01003', '251635', '250715', 'PEN04001', '251105', 'PEN08001',\n",
       "       '250915', '250410', 'DLT02001', '250920', '251005', '251720',\n",
       "       'LMP04009', '250905', '250405', '250815', '251210', 'LMP03003',\n",
       "       'DLT03003', '251015', '250165', '250150', '17500', '16118',\n",
       "       'LMP03004', '251220', '250110', 'DLT04003', '250425', 'URB05002',\n",
       "       '16128', 'LMP04003', '250830', 'LMP01003', '250810', 'LMP01010',\n",
       "       '251540', '250420', '250130', '251215', '251615', '16702',\n",
       "       'LMP04005', '250910', '250160', 'LMP04010', 'LMP01009', '250105',\n",
       "       '251310', 'PEN01004', 'PEN01002', 'LMP10005', 'LMP10004',\n",
       "       'LMP10016', 'LCP90001', '17010', '250125', '250135', 'LCP01002',\n",
       "       '17020', 'RWY01002', 'LF100000', 'RWY02002', '17050', 'TAL02002',\n",
       "       'FASTRA00', 'NUALIG00', 'FGALAX00', 'TAL06001', '17070',\n",
       "       'LP900000', 'FFLUSH00', 'SA2MAX00', 'NSTCKPLE', 'TAL01008',\n",
       "       'CSECON00', 'GHIDIN00', 'PEN09001', 'FBULLS00', 'FLD03004',\n",
       "       'CSELIG00', 'TAL06004', 'FSYLEC00', 'RPIXEL00', 'LCP99001',\n",
       "       'TAL02004', 'PEN10001', 'TAL06005', 'NSTCKFIX', 'LMP90001',\n",
       "       'LMP04018', 'NSTCKCCD', 'OTHER71', 'CEQUIL00', 'FSLIML00',\n",
       "       'FLD02001', 'CSLIMD00', 'LPUNTO00', 'CSIGNO00', 'LL100000',\n",
       "       'LL300000', 'CSEEXWN0', 'PEN90002', 'LMP10007', 'LMP06009',\n",
       "       'CLED150T', 'TAL02003', 'CSEFFL00', 'LMP10011', 'CSEGLA00',\n",
       "       'RROADS00', 'LC500000', 'SS1MIN00', 'LMP05029', 'LMP10020',\n",
       "       'LMP10021', 'CMOTIF00', 'TAL04005', 'CINSTA00', 'LMP10023',\n",
       "       'RWY04001', 'TAL01004', 'LB500000', 'TAL04003', 'COV65000',\n",
       "       'SMODAR00', 'OTHER91', 'CLED100T', 'TAL01009', 'CLYTE300',\n",
       "       'LMP06007', 'CEQUI400', 'TAL01007', 'CTORUS00', 'CSTDEV00',\n",
       "       'CTEQSP00', 'LC230000', 'LA300000', 'TAL01002', 'LMP07004',\n",
       "       'COFFLY00', 'RTUNPS00', 'CSTPRO00', 'FPIRAN00', 'LMP05030',\n",
       "       'LA100000', 'CMYRIA00', 'LA900000', 'LMP04015', 'LG370000',\n",
       "       'LMP10024', 'FRAWMA00', 'LD250000', 'IAI10001', 'LMP10003',\n",
       "       'LL400000', 'LMP12001', 'LG150000', 'LS010000', 'CSTERL00',\n",
       "       'CSKYLI00', 'CMONIT00', 'CINSA175', 'LD320000', 'CGIOTT00',\n",
       "       'TAL02005', 'CINPACT0', 'CINSE120', 'CAXOXL00', 'CGIRO000',\n",
       "       'LG420000', 'CCASSI00', 'FSYCAP00', 'CPIXO000', 'TAL01010',\n",
       "       'COPALI00', 'LD490000', 'SQUADT00', 'CINSA225', 'SNOVAL00',\n",
       "       'CGI33500', 'LK010000', 'CINSAR00', 'CINST900', 'CINST700',\n",
       "       'CBEACO00', 'CSIGN155', 'LC210000', 'LC410000', 'LC100000',\n",
       "       'LG900000', 'FPOLES00', 'LMP10013', 'LG380000', 'CDECAP00', '240',\n",
       "       'N85', '416', 'N59', 'N75', '418', '243', '723', 'N51', '431',\n",
       "       'FLRSTK', '239', '510', '17040', 'TAL01005', 'LMP10018',\n",
       "       'PEN03001', '180', 'FLD01003', '355', '16626', '209', '44', '421',\n",
       "       '725', '359', 'FLD01001', 'DLT04004', '120', '995', 'CMOT8200',\n",
       "       'CINSTAR8', 'CINSE100', 'CBRIO000', 'DLT03001', 'FCUBAN00',\n",
       "       'CFOLIO00', 'FTRITO00', 'CEQIN300', 'LA350000', 'CLYTES00',\n",
       "       'LL500000', 'SCITYL00', 'CCIELO00', 'SR1MIN00', 'TAL07002',\n",
       "       'OTHER75', 'CINSA150', 'FILIA000', '193', 'IAI09001', '251305',\n",
       "       '16312', 'PEN04003', '20', 'CSEEB000', '250520', 'HLB01002',\n",
       "       'LC010000', '251525', 'FLINEA00', 'CSEEXDN0', 'LMP09002',\n",
       "       'CSIGN115', 'OTHER92', '231', 'LMP08001', 'CACCES00', 'LG100000',\n",
       "       'SA1MIN00'], dtype=object)"
      ]
     },
     "execution_count": 43,
     "metadata": {},
     "output_type": "execute_result"
    }
   ],
   "source": [
    "df_2012['item_group_code'].unique()"
   ]
  },
  {
   "cell_type": "code",
   "execution_count": 44,
   "metadata": {},
   "outputs": [
    {
     "data": {
      "text/plain": [
       "array(['COM90001', '999', 'COM03002', 'SUR01001', 'LMP05003', 'LMP04002',\n",
       "       'PEN01001', 'LMP05017', '704', 'LMP05002', 'COM99001', 'LMP02001',\n",
       "       'LMP05025', 'LMP05014', 'LMP04006', 'LMP05026', 'LMP03002',\n",
       "       'COM17001', 'TRO01001', 'DLT02002', 'DLT01002', 'LMP03007',\n",
       "       'LMP03008', 'LMP05023', 'LMP03001', 'LMP06003', 'LMP03015',\n",
       "       'SUR90001', 'TAL90001', '16338', 'LMP05022', 'LMP07001',\n",
       "       'LMP05029', 'LMP04008', 'LMP05016', 'LMP05024', 'LMP05013',\n",
       "       'COM06001', 'PEN90002', 'LMP05010', 'LMP09001', '17000', '250155',\n",
       "       'FLD04002', 'LMP05028', 'LMP10023', 'SUR12001', 'LMP04012',\n",
       "       'LMP05007', '16318', 'TAL01001', 'TAL08001', 'LMP05015',\n",
       "       'LMP07002', 'LMP05020', 'LMP05018', 'LMP11001', 'COM01001',\n",
       "       'SUR10001', '16602', 'LMP05019', 'LMP03011', 'LMP05012',\n",
       "       'LMP04013', 'LMP10008', 'LMP04011', 'TAL05001', 'LMP04017',\n",
       "       'TAL01007', 'TAL01004', '16606', '251220', 'SUR05001', 'LMP04018',\n",
       "       'LMP05005', 'LMP05009', 'SUR07002', 'SUR14001', 'FLD04001',\n",
       "       'LMP05008', 'SUR11001', 'DLT90001', 'SUR06001', 'SUR02001',\n",
       "       'URB04001', 'LMP01005', 'TAL01003', '251230', 'COM03001',\n",
       "       'URB04002', 'FLD02002', 'DLT02003', 'SUR99001', 'URB90001',\n",
       "       'DLT04002', 'LMP03009', 'SUR13001', 'LMP05004', 'LMP05006',\n",
       "       'COM08001', '250905', 'LMP03013', 'PEN01003', 'LMP05001', '251015',\n",
       "       'LMP06001', 'COM05001', 'TAL02001', 'LMP04001', 'LMP03004',\n",
       "       'LMP03012', 'LMP03006', 'TAL99001', 'LMP06004', 'TAL02003',\n",
       "       '250170', 'LMP06010', 'SUR03001', 'LMP10007', 'URB02001',\n",
       "       'LMP10016', 'LMP10013', 'LMP04015', 'PEN08001', 'TAL01002',\n",
       "       '16702', 'LMP06007', 'SUR04001', 'LMP06002', '17030', 'IAE05001',\n",
       "       'LMP01001', 'URB01002', '251405', '908', 'LMP99001', 'TAL01005',\n",
       "       'LMP04004', '250405', 'LMP10004', 'LMP04019', 'COM10001',\n",
       "       'LMP06005', 'LMP03003', 'LMP04014', 'PEN04001', 'PEN01004',\n",
       "       'LMP01002', 'LMP10005', 'FLD90001', 'LCP01001', 'DLT04003',\n",
       "       'URB03001', '250150', 'URB05002', 'DLT01003', 'LMP10018',\n",
       "       'LMP06009', 'LMP10011', 'PEN01002', '251005', 'LMP04009',\n",
       "       'LMP01007', 'LMP10017', 'LMP10003', '250920', '251720', '251105',\n",
       "       '250805', '250425', 'LMP05030', 'TAL02002', 'LMP01009', 'LMP10020',\n",
       "       'LMP03005', 'DLT03003', '250130', 'SUR08001', '250105', 'LMP04010',\n",
       "       '250715', 'COM13001', 'LMP10006', '250165', 'LMP04016', '250410',\n",
       "       '251210', 'IAI10001', 'DLT02001', 'LMP12001', '308', 'FLD03002',\n",
       "       'PEN03001', 'DLT03002', 'FLD01002', 'LMP04005', 'LMP01010',\n",
       "       'LMP10022', '251410', 'LMP01006', 'LMP01003', '250505', 'COM03003',\n",
       "       '17010', 'TAL02005', 'LCP01002', 'SUR06002', 'PEN04003',\n",
       "       'COM02001', '17080', 'COM12001', '970', 'SAE99001', 'LCP90001',\n",
       "       '251310', '250420', '427', 'LMP01004', 'COM18001', 'COM15001',\n",
       "       '16118', 'EXL06001', 'HLB02002', 'HLB90001', 'TRO02001', '251615',\n",
       "       '180', 'FLD01004', 'SUR07003', 'HLB99001', 'RWY90001', 'COM04001',\n",
       "       'LMP10014', 'COM16001', '17050', 'COM14001', 'RWY99001',\n",
       "       'COM09001', 'P12197', '270', 'DLT99001', '50', 'TRO90001',\n",
       "       'COM19001', 'SUR09001', 'TRO03001', 'RWY01001', 'SAE02001',\n",
       "       'SAE90001', 'SAE01001', '374', 'FLD02004', 'SAE80001', '359',\n",
       "       'URB99001', 'SUR80001', 'LMP01008', 'PEN90001', 'TRO99001',\n",
       "       'TRO02004', 'RWY01002', 'CSELIG00', 'HLB01001', '11021',\n",
       "       'TRO80001', '53', 'LCP02001', 'TRO02002', 'DLT01001', 'FLRSTK',\n",
       "       '2', 'A42', 'LCP01003', 'LCP01004', '532', 'SAE01002', 'TRO03004',\n",
       "       'SAE02002', 'EXL90001', '74', 'TRO03002', 'HLB02001', '6000',\n",
       "       '240', 'COM07001', 'EXL01002', '209', '315', 'EXL05001', '336',\n",
       "       '725', 'SUR07001', 'TRO03003', 'COM11001', 'A45', 'LMP90001',\n",
       "       'RWY02001', '220', '421', 'HLB01002', 'RWY03002', 'FLD99001',\n",
       "       '161', 'EXL02001', 'EXL01001', 'EXL02002', 'COM70001', 'RWY03001',\n",
       "       '97', 'HLB80001', 'TAL04001', '10', 'LMP10002', 'TAL07001',\n",
       "       'TAL06001', 'FLD01001', 'A48', 'P12015', '317', 'HLB01003', 'B31',\n",
       "       '995', 'P12051', 'TRO02005', 'EXL03001', 'CINSA225', 'LA900000',\n",
       "       'CINST700', 'CGIOTT00', 'TAL02004', 'TAL04003', 'GHIDIN00',\n",
       "       'TAL04005', '11047', 'LL100000', 'CSECON00', 'PEN09001',\n",
       "       'LC500000', 'LA300000', 'LL300000', 'LL400000', 'LG370000',\n",
       "       'LS010000', 'LA100000', 'CTORUS00', 'CLYTES00', 'RWY01003', '530',\n",
       "       'CSEFC000', 'CEXFNII0', 'RWY02002', 'CAXOXL00', 'CINPACT0',\n",
       "       'CBRIO000', 'FASTRA00', 'CFOLIO00', 'CGIRO000', 'CSTERL00', '531',\n",
       "       '198', '20', 'LF100000', 'NUALIG00', 'NSTCKCCD', 'TAL06004',\n",
       "       'PEN10001', 'CLED150T', 'CSEEXWN0', 'LPUNTO00', 'NSTCKOTH',\n",
       "       'NSTCKPLE', 'NSTCKFIX', 'LC410000', 'SR1MIN00', 'FSYLEC00',\n",
       "       'TAL06005', 'LG380000', 'SMODAR00', 'CSEGLA00', 'RWY05001',\n",
       "       'RSOLAR00', 'SA2MAX00', 'FLD03004', 'LL600000', '419', 'CTEQSP00',\n",
       "       '350', 'FLD02001', 'CMOTIF00', 'DLT03001', 'LD320000', 'RRAWMA00',\n",
       "       'FSLIML00', 'RWY04001', 'SA2MIN00', 'CINST800', 'CEQUI400',\n",
       "       'CEQIN300', 'OTHER91', 'RWY06001', '16324', 'LMP10024', 'COFFLY00',\n",
       "       'CSEARMA0', 'CINSTA00', 'CINSA175', '130', '10008', 'EXL99001',\n",
       "       '418', '16128', 'CPENTO00', '355', 'CSEFFL00', '251215',\n",
       "       'LMP05027', '250125', 'LCP02002', 'TAL04002', '16310', 'LCP99001',\n",
       "       'OTHER71', 'SSM30000', 'CEQUIL00', 'FLD01003', '16612', 'DLT01004',\n",
       "       'FSUPER00', 'LMP04003', 'TRO02003', 'LMP09002', '1', 'LMP07004',\n",
       "       'OTHER76', 'B34', 'N75', '251545', '416', '399', 'TRO01003',\n",
       "       'CROTOS00', 'LB500000', 'LC230000', '251235', '16102', '30',\n",
       "       '250830', 'LG420000', 'FLD02003', 'CINSE100', 'FCUBAN00',\n",
       "       'IAI09001', 'LMP08001', '195', '038B', 'FBLINE00', '230',\n",
       "       'TAL01009', 'URB05001', '250140', 'LMP10021', '670', 'COM80001',\n",
       "       '17090', '271', '10007', '94', 'IAI05001', 'P12044', 'TAL02006',\n",
       "       'SEL', '038A', '190', 'TAL01010', 'CACCES00', 'CSECSDE0',\n",
       "       'FPOLES00', 'FGTRAY00', 'CSETBE40', '300', 'CFJB3A00', 'FILIA000',\n",
       "       'CFJB2A00', 'SNOVAL00', '193', 'NSTCKLMP', 'FLINEA00', '250915',\n",
       "       '16124', 'CFJB0A00', '64', 'PEN99001', 'CMYRIA00', '533',\n",
       "       'IAI08001', 'LMP10009', 'CSIGN155', 'CDLREC00', 'FTRITO00',\n",
       "       'PEN03003', '711', 'FCOURT00', 'FLD03001', 'N59', '980', 'OTHER92',\n",
       "       'SCLSPO00', 'FBENEL00', 'FRAVEN0L', 'IAI11001'], dtype=object)"
      ]
     },
     "execution_count": 44,
     "metadata": {},
     "output_type": "execute_result"
    }
   ],
   "source": [
    "df_2013['item_group_code'].unique()"
   ]
  },
  {
   "cell_type": "code",
   "execution_count": 45,
   "metadata": {
    "ExecuteTime": {
     "end_time": "2024-10-27T01:05:15.408041Z",
     "start_time": "2024-10-27T01:05:15.397668Z"
    }
   },
   "outputs": [
    {
     "data": {
      "text/plain": [
       "[1, 2, 3, 4, 5, 6, 7, 8, 9]"
      ]
     },
     "execution_count": 45,
     "metadata": {},
     "output_type": "execute_result"
    }
   ],
   "source": [
    "sorted(df_2012['item_type'].unique())"
   ]
  },
  {
   "cell_type": "code",
   "execution_count": 46,
   "metadata": {},
   "outputs": [
    {
     "data": {
      "text/plain": [
       "[1, 2, 3, 4, 5, 6, 7, 8, 9]"
      ]
     },
     "execution_count": 46,
     "metadata": {},
     "output_type": "execute_result"
    }
   ],
   "source": [
    "sorted(df_2013['item_type'].unique())"
   ]
  },
  {
   "cell_type": "code",
   "execution_count": 47,
   "metadata": {
    "ExecuteTime": {
     "end_time": "2024-10-27T01:05:43.087161Z",
     "start_time": "2024-10-27T01:05:43.008174Z"
    }
   },
   "outputs": [
    {
     "data": {
      "text/plain": [
       "array(['Trade', 'Professional'], dtype=object)"
      ]
     },
     "execution_count": 47,
     "metadata": {},
     "output_type": "execute_result"
    }
   ],
   "source": [
    "df_2012['bonus_group_code'].unique()"
   ]
  },
  {
   "cell_type": "code",
   "execution_count": 48,
   "metadata": {},
   "outputs": [
    {
     "data": {
      "text/plain": [
       "array(['Trade', 'Professional'], dtype=object)"
      ]
     },
     "execution_count": 48,
     "metadata": {},
     "output_type": "execute_result"
    }
   ],
   "source": [
    "df_2013['bonus_group_code'].unique()"
   ]
  },
  {
   "cell_type": "markdown",
   "metadata": {},
   "source": [
    "## Validate 'Environment group code' column\n",
    "\n",
    "```markdown\n",
    "| environment_group_code | environment_group_code & Name       |\n",
    "|------------------------|-------------------------------------|\n",
    "| S                      | S - Sylvania Lighting Brand         |\n",
    "| P                      | P - Pierlite Brand                  |\n",
    "| D                      | D - Diginet Brand                   |\n",
    "| Z                      | Z - New Zealand                     |\n",
    "| C                      | C - Crompton Brand                  |\n",
    "| M                      | M - Moonlighting Brand              |\n",
    "| R                      | R - Retail Brand                    |\n",
    "| I                      | I - Inlite Brand                    |\n",
    "| NA                     | NA                                  |\n",
    "```\n",
    "\n"
   ]
  },
  {
   "cell_type": "code",
   "execution_count": 49,
   "metadata": {
    "ExecuteTime": {
     "end_time": "2024-10-27T01:06:21.295368Z",
     "start_time": "2024-10-27T01:06:21.256292Z"
    }
   },
   "outputs": [
    {
     "data": {
      "text/plain": [
       "['C', 'D', 'I', 'M', 'NA', 'P', 'R', 'S', 'Z']"
      ]
     },
     "execution_count": 49,
     "metadata": {},
     "output_type": "execute_result"
    }
   ],
   "source": [
    "sorted(df_2012['environment_group_code'].unique())"
   ]
  },
  {
   "cell_type": "code",
   "execution_count": 50,
   "metadata": {},
   "outputs": [
    {
     "data": {
      "text/plain": [
       "['C', 'D', 'I', 'M', 'NA', 'P', 'R', 'S', 'Z']"
      ]
     },
     "execution_count": 50,
     "metadata": {},
     "output_type": "execute_result"
    }
   ],
   "source": [
    "sorted(df_2013['environment_group_code'].unique())"
   ]
  },
  {
   "cell_type": "code",
   "execution_count": 51,
   "metadata": {
    "ExecuteTime": {
     "end_time": "2024-10-27T01:08:48.662521Z",
     "start_time": "2024-10-27T01:08:48.624036Z"
    }
   },
   "outputs": [
    {
     "data": {
      "text/plain": [
       "False"
      ]
     },
     "execution_count": 51,
     "metadata": {},
     "output_type": "execute_result"
    }
   ],
   "source": [
    "environment_group_code_list = ['S', 'P', 'D', 'Z', 'C', 'M', 'R', 'I', 'NA']\n",
    "\n",
    "# check if the values in 'environment_group_code' column are in the list\n",
    "len((df_2012['environment_group_code'][~df_2012['environment_group_code'].isin(environment_group_code_list)])) > 0"
   ]
  },
  {
   "cell_type": "code",
   "execution_count": 52,
   "metadata": {},
   "outputs": [
    {
     "data": {
      "text/plain": [
       "False"
      ]
     },
     "execution_count": 52,
     "metadata": {},
     "output_type": "execute_result"
    }
   ],
   "source": [
    "environment_group_code_list = ['S', 'P', 'D', 'Z', 'C', 'M', 'R', 'I', 'NA']\n",
    "\n",
    "# check if the values in 'environment_group_code' column are in the list\n",
    "len((df_2013['environment_group_code'][~df_2013['environment_group_code'].isin(environment_group_code_list)])) > 0"
   ]
  },
  {
   "cell_type": "code",
   "execution_count": 53,
   "metadata": {
    "ExecuteTime": {
     "end_time": "2024-10-26T00:47:42.794641Z",
     "start_time": "2024-10-26T00:47:42.785004Z"
    }
   },
   "outputs": [
    {
     "name": "stdout",
     "output_type": "stream",
     "text": [
      "Series([], Name: accounting_date, dtype: datetime64[ns])\n"
     ]
    }
   ],
   "source": [
    "# check whether accounting_date confirms to the format YYYYMMDD\n",
    "\n",
    "df_2012['accounting_date'] = pd.to_datetime(df_2012['accounting_date'], format='%Y%m%d', errors='coerce')\n",
    "\n",
    "#print accounting_date which doesn't confirm to the format YYYYMMDD\n",
    "print(df_2012['accounting_date'][df_2012['accounting_date'].isnull()])"
   ]
  },
  {
   "cell_type": "code",
   "execution_count": 54,
   "metadata": {
    "ExecuteTime": {
     "end_time": "2024-10-26T02:22:31.861615Z",
     "start_time": "2024-10-26T02:22:31.849284Z"
    }
   },
   "outputs": [
    {
     "name": "stdout",
     "output_type": "stream",
     "text": [
      "Series([], Name: accounting_date, dtype: datetime64[ns])\n"
     ]
    }
   ],
   "source": [
    "# check whether accounting_date confirms to the format YYYYMMDD\n",
    "\n",
    "df_2013['accounting_date'] = pd.to_datetime(df_2013['accounting_date'], format='%Y%m%d', errors='coerce')\n",
    "\n",
    "#print accounting_date which doesn't confirm to the format YYYYMMDD\n",
    "print(df_2013['accounting_date'][df_2013['accounting_date'].isnull()])"
   ]
  },
  {
   "cell_type": "markdown",
   "metadata": {},
   "source": [
    "## Validate 'Technology Group Code' column\n",
    "\n",
    "| technology_group_code | technology_group_code & Name                      |\n",
    "|-----------------------|---------------------------------------------------|\n",
    "| SYLV                  | SYLV - Sylvania                                   |\n",
    "| NA                    | NA                                                |\n",
    "| PIER                  | PIER - Pierlite                                   |\n",
    "| 96                    | 96                                                |\n",
    "| 219                   | 219 - Overseas Other                              |\n",
    "| 92                    | 214 - Lithonia Lighting (lith01/02/03)            |\n",
    "| 214                   | 380 - Lamps Others                                |\n",
    "| 380                   | 102 - Sealite (seal03)                            |\n",
    "| 102                   | 123 - Flowin (flow01/02)                          |\n",
    "| 123                   | 110 - P T Pierlite Indonesia (ptpi01)             |\n",
    "| 110                   | 213 - Fosnova (fosn01)                            |\n",
    "| 98                    | 580 - Diffusers                                   |\n",
    "| 213                   | 108 - High Bright (high02)                        |\n",
    "| 580                   | 999 - Slow Moving / Obsolete                      |\n",
    "| 108                   | 198 - Disano (disa02/03)                          |\n",
    "| 999                   | 999                                               |\n",
    "| 198                   | 198                                               |\n",
    "| SCHR                  | SCHR - Schreder                                   |\n",
    "| 82                    | 82                                                |\n",
    "| 140                   | 140 - Simes (sime01)                              |\n",
    "| 540                   | 540 - Bodies                                      |\n",
    "| AUST                  | AUST - Austube (lclm01/02)                        |\n",
    "| 480                   | 480 - Lampholders                                 |\n",
    "| 760                   | 760 - Screws Studs Inserts                        |\n",
    "| 460                   | 460 - Terminal Blocks                             |\n",
    "| 600                   | 600 - Endcaps & Diff Clips Etc                    |\n",
    "| 520                   | 520 - Wire Guards                                 |\n",
    "| 998                   | 998 - Grommets & Wedges                           |\n",
    "| 570                   | 570 - Brackets                                    |\n",
    "| 280                   | 280 - Ignitors                                    |\n",
    "| 330                   | 330 - Lamps Fluoro                                |\n",
    "| 220                   | 220 - Ballasts                                    |\n",
    "| 415                   | 415 - Cartons                                     |\n",
    "| 340                   | 340 - Lamps Mercury                               |\n",
    "| 225                   | 225 - Electronic Ballasts                         |\n",
    "| CSE                   | CSE - Cse Ex                                      |\n",
    "| 565                   | 565 - Covers                                      |\n",
    "| 410                   | 410 - Packing Material                            |\n",
    "| 560                   | 560 - Reflectors                                  |\n",
    "| 800                   | 800 - Bolts & Nuts                                |\n",
    "| 680                   | 680 - Aluminium Extrusions & Sheets               |\n",
    "| 320                   | 320 - Batteries                                   |\n",
    "| 550                   | 550 - Trims                                       |\n",
    "| 400                   | 400 - Wires & Cables                              |\n",
    "| 160                   | 160 - Schuch (schu01)                             |\n",
    "| 440                   | 440 - Starter Switches                            |\n",
    "| 420                   | 420 - Flex & Plugs                                |\n",
    "| 500                   | 500 - Control Gear/boxes                          |\n",
    "| 555                   | 555 - Frames                                      |\n",
    "| 360                   | 360 - Lamps Metal Halide                          |\n",
    "| 290                   | 290 - Transformers                                |\n",
    "| 780                   | 780 - Washers & Circlips                          |\n",
    "| 545                   | 545 - Gear Trays                                  |\n",
    "| 181                   | 181 - V'lux (vlux01)                              |\n",
    "| 240                   | 240 - Capacitors                                  |\n",
    "| 640                   | 640 - Bollards                                    |\n",
    "| 820                   | 820 - Rivets                                      |\n",
    "| 595                   | 595 - Louvres                                     |\n",
    "| 300                   | 300 - Inverters                                   |\n",
    "| 830                   | 830 - Clips/springs/hinges                        |\n",
    "| 70                    | 70                                                |\n",
    "| 850                   | 850 - Finish Good Components                      |\n",
    "| 86                    | 86                                                |\n",
    "| 720                   | 720 - Sleeves Seals Gaskets Etc                   |\n",
    "| 740                   | 740 - Labels & Stickers                           |\n",
    "| 310                   | 310 - Drivers                                     |\n",
    "| FGDFT                 | FGDFT - Finished Goods                            |\n",
    "| 350                   | 350 - Lamps High Pressure Sodium                  |\n",
    "| 206                   | 206 - Nimbus Lighting (nimb01)                    |\n",
    "| 64                    | PNZ - Glg Nz                                      |\n",
    "| PNZ                   | CROM - Crompton                                   |\n",
    "| 63                    | 63                                                |\n",
    "| CROM                  | CROM                                              |\n",
    "| 100                   | 100 - Eclatec (ecla01/02)                         |\n",
    "| 78                    | 78                                                |\n",
    "| 207                   | 207 - Troll Lighting (trol01)                     |\n",
    "| 208                   | 208 - Planet Lighting (plan01)                    |\n",
    "| 76                    | 76                                                |\n",
    "| 211                   | 211 - Side Lighting (side01/02)                   |\n",
    "| 205                   | 205 - Atomis Lighting (atom01)                    |\n",
    "| 85                    | 85                                                |\n",
    "| 90                    | 90                                                |\n",
    "| 68                    | 68                                                |\n",
    "| 130                   | 130 - Yaohua Lux (yaoh01)                         |\n",
    "| GLG                   | GLG - Glg                                         |\n",
    "| INLIT                 | INLIT - Inlite Au                                 |\n",
    "| 72                    | 72                                                |\n",
    "| 61                    | 61                                                |\n",
    "| 880                   | 880 - Local Purch - Fg                            |\n",
    "| 217                   | 217 - Siteco (site01/03)                          |\n",
    "| 215                   | 215 - Havells Europe (have02, Have04 & Have05)    |\n",
    "| 80                    | 80                                                |\n",
    "| 210                   | 210 - Traxon Technologies (trax01/02)             |\n",
    "| INZ                   | INZ - Inlite Nz                                   |\n",
    "| 250                   | 250 - Blocking Inductors                          |\n",
    "| 118                   | 118 - Relight Technology (reli02)                 |\n",
    "| 66                    | 66                                                |"
   ]
  },
  {
   "cell_type": "code",
   "execution_count": 55,
   "metadata": {
    "ExecuteTime": {
     "end_time": "2024-10-27T01:12:35.618441Z",
     "start_time": "2024-10-27T01:12:35.509064Z"
    }
   },
   "outputs": [
    {
     "data": {
      "text/plain": [
       "False"
      ]
     },
     "execution_count": 55,
     "metadata": {},
     "output_type": "execute_result"
    }
   ],
   "source": [
    "technology_group_code_list = ['SYLV', 'NA', 'PIER', '96', '219', '92', '214', '380', '102', '123', '110', '98', '213', '580', '108', '999', '198', 'SCHR', '82', '140', '540', 'AUST', '480', '760', '460', '600', '520', '998', '570', '280', '330', '220', '415', '340', '225', 'CSE', '565', '410', '560', '800', '680', '320', '550', '400', '160', '440', '420', '500', '555', '360', '290', '780', '545', '181', '240', '640', '820', '595', '300', '830', '70', '850', '86', '720', '740', '310', 'FGDFT', '350', '206', '64', 'PNZ', '63', 'CROM', '100', '78', '207', '208', '76', '211', '205', '85', '90', '68', '130', 'GLG', 'INLIT', '72', '61', '880', '217', '215', '80', '210', 'INZ', '250', '118', '66']\n",
    "\n",
    "# check if the values in 'technology_group_code' column are in the list\n",
    "len((df_2012['technology_group_code'][~df_2012['technology_group_code'].isin(technology_group_code_list)])) > 0"
   ]
  },
  {
   "cell_type": "code",
   "execution_count": 56,
   "metadata": {},
   "outputs": [
    {
     "data": {
      "text/plain": [
       "True"
      ]
     },
     "execution_count": 56,
     "metadata": {},
     "output_type": "execute_result"
    }
   ],
   "source": [
    "technology_group_code_list = ['SYLV', 'NA', 'PIER', '96', '219', '92', '214', '380', '102', '123', '110', '98', '213', '580', '108', '999', '198', 'SCHR', '82', '140', '540', 'AUST', '480', '760', '460', '600', '520', '998', '570', '280', '330', '220', '415', '340', '225', 'CSE', '565', '410', '560', '800', '680', '320', '550', '400', '160', '440', '420', '500', '555', '360', '290', '780', '545', '181', '240', '640', '820', '595', '300', '830', '70', '850', '86', '720', '740', '310', 'FGDFT', '350', '206', '64', 'PNZ', '63', 'CROM', '100', '78', '207', '208', '76', '211', '205', '85', '90', '68', '130', 'GLG', 'INLIT', '72', '61', '880', '217', '215', '80', '210', 'INZ', '250', '118', '66']\n",
    "\n",
    "# check if the values in 'technology_group_code' column are in the list\n",
    "len((df_2013['technology_group_code'][~df_2013['technology_group_code'].isin(technology_group_code_list)])) > 0"
   ]
  },
  {
   "cell_type": "code",
   "execution_count": 57,
   "metadata": {
    "ExecuteTime": {
     "end_time": "2024-10-27T01:13:21.441097Z",
     "start_time": "2024-10-27T01:13:21.351544Z"
    }
   },
   "outputs": [
    {
     "data": {
      "text/plain": [
       "array(['NET_SALES', 'REBATE_EXEMPT_EOL', 'REBATE_EXEMPT_TP'], dtype=object)"
      ]
     },
     "execution_count": 57,
     "metadata": {},
     "output_type": "execute_result"
    }
   ],
   "source": [
    "df_2012[\"commission_group_code\"].unique()\n"
   ]
  },
  {
   "cell_type": "code",
   "execution_count": 58,
   "metadata": {},
   "outputs": [
    {
     "data": {
      "text/plain": [
       "array(['NET_SALES', 'REBATE_EXEMPT_EOL', 'REBATE_EXEMPT_TP'], dtype=object)"
      ]
     },
     "execution_count": 58,
     "metadata": {},
     "output_type": "execute_result"
    }
   ],
   "source": [
    "df_2013[\"commission_group_code\"].unique()"
   ]
  },
  {
   "cell_type": "code",
   "execution_count": 59,
   "metadata": {
    "ExecuteTime": {
     "end_time": "2024-10-27T01:13:51.886824Z",
     "start_time": "2024-10-27T01:13:51.835808Z"
    }
   },
   "outputs": [
    {
     "data": {
      "text/plain": [
       "reporting_classification\n",
       "Discontinuing    748921\n",
       "Continuing       288284\n",
       "Name: count, dtype: int64"
      ]
     },
     "execution_count": 59,
     "metadata": {},
     "output_type": "execute_result"
    }
   ],
   "source": [
    "df_2012[\"reporting_classification\"].value_counts() "
   ]
  },
  {
   "cell_type": "code",
   "execution_count": 60,
   "metadata": {},
   "outputs": [
    {
     "data": {
      "text/plain": [
       "reporting_classification\n",
       "Discontinuing    672484\n",
       "Continuing       278693\n",
       "Name: count, dtype: int64"
      ]
     },
     "execution_count": 60,
     "metadata": {},
     "output_type": "execute_result"
    }
   ],
   "source": [
    "df_2013[\"reporting_classification\"].value_counts() "
   ]
  },
  {
   "cell_type": "code",
   "execution_count": 61,
   "metadata": {
    "ExecuteTime": {
     "end_time": "2024-10-27T01:14:20.016558Z",
     "start_time": "2024-10-27T01:14:19.946314Z"
    }
   },
   "outputs": [
    {
     "data": {
      "text/plain": [
       "light_source\n",
       "Traditional    732861\n",
       "Accessories    251511\n",
       "LED             52833\n",
       "Name: count, dtype: int64"
      ]
     },
     "execution_count": 61,
     "metadata": {},
     "output_type": "execute_result"
    }
   ],
   "source": [
    "df_2012[\"light_source\"].value_counts()"
   ]
  },
  {
   "cell_type": "markdown",
   "metadata": {},
   "source": []
  },
  {
   "cell_type": "code",
   "execution_count": 62,
   "metadata": {},
   "outputs": [
    {
     "data": {
      "text/plain": [
       "light_source\n",
       "Traditional    649409\n",
       "Accessories    204145\n",
       "LED             97623\n",
       "Name: count, dtype: int64"
      ]
     },
     "execution_count": 62,
     "metadata": {},
     "output_type": "execute_result"
    }
   ],
   "source": [
    "df_2013[\"light_source\"].value_counts()"
   ]
  },
  {
   "cell_type": "code",
   "execution_count": 82,
   "metadata": {},
   "outputs": [
    {
     "data": {
      "image/png": "[encoded data removed]",
      "text/plain": [
       "<Figure size 800x300 with 1 Axes>"
      ]
     },
     "metadata": {},
     "output_type": "display_data"
    }
   ],
   "source": [
    "#create a scatter plot for item_type and value_quantity for 2012 data\n",
    "\n",
    "plt.figure(figsize=(8, 3))\n",
    "plt.scatter(df_2012['item_type'], df_2012['value_quantity'], c='green', alpha=0.5)\n",
    "plt.title('Scatter Plot')\n",
    "plt.xlabel('item_type')\n",
    "plt.ylabel('value_quantity')\n",
    "plt.grid(True)\n",
    "plt.show()"
   ]
  },
  {
   "cell_type": "code",
   "execution_count": 65,
   "metadata": {},
   "outputs": [
    {
     "data": {
      "image/png": "[encoded data removed]",
      "text/plain": [
       "<Figure size 800x300 with 1 Axes>"
      ]
     },
     "metadata": {},
     "output_type": "display_data"
    }
   ],
   "source": [
    "#create a scatter plot for item_type and value_quantity for 2013 data\n",
    "plt.figure(figsize=(8, 3))\n",
    "plt.scatter(df_2013['item_type'], df_2013['value_quantity'], c='green', alpha=0.5)\n",
    "plt.title('Scatter Plot')\n",
    "plt.xlabel('item_type')\n",
    "plt.ylabel('value_quantity')\n",
    "plt.grid(True)\n",
    "plt.show()"
   ]
  },
  {
   "cell_type": "code",
   "execution_count": 77,
   "metadata": {},
   "outputs": [
    {
     "data": {
      "image/png": "[encoded data removed]",
      "text/plain": [
       "<Figure size 2000x1200 with 1 Axes>"
      ]
     },
     "metadata": {},
     "output_type": "display_data"
    }
   ],
   "source": [
    "#Create a line chart for order type code and value_sales for 2012 data\n",
    "\n",
    "\n",
    "plt.figure(figsize=(20, 12))\n",
    "plt.plot(df_2012['order_type_code'], df_2012['value_sales'], c='blue')\n",
    "plt.title('Line Chart')\n",
    "plt.xlabel('order_type_code')\n",
    "plt.ylabel('value_sales')\n",
    "plt.grid(True)\n",
    "plt.show()\n"
   ]
  },
  {
   "cell_type": "code",
   "execution_count": 78,
   "metadata": {},
   "outputs": [
    {
     "data": {
      "image/png": "[encoded data removed]",
      "text/plain": [
       "<Figure size 2000x1200 with 1 Axes>"
      ]
     },
     "metadata": {},
     "output_type": "display_data"
    }
   ],
   "source": [
    "#Create a line chart for order type code and value_sales for 2013 data\n",
    "\n",
    "\n",
    "plt.figure(figsize=(20, 12))\n",
    "plt.plot(df_2013['order_type_code'], df_2013['value_sales'], c='blue')\n",
    "plt.title('Line Chart')\n",
    "plt.xlabel('order_type_code')\n",
    "plt.ylabel('value_sales')\n",
    "plt.grid(True)\n",
    "plt.show()"
   ]
  }
 ],
 "metadata": {
  "kernelspec": {
   "display_name": "Python 3 (ipykernel)",
   "language": "python",
   "name": "python3"
  },
  "language_info": {
   "codemirror_mode": {
    "name": "ipython",
    "version": 3
   },
   "file_extension": ".py",
   "mimetype": "text/x-python",
   "name": "python",
   "nbconvert_exporter": "python",
   "pygments_lexer": "ipython3",
   "version": "3.11.5"
  }
 },
 "nbformat": 4,
 "nbformat_minor": 4
}
